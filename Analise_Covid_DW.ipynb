{
 "cells": [
  {
   "cell_type": "markdown",
   "id": "11126f29",
   "metadata": {},
   "source": [
    "## Importação de Bibliotecas"
   ]
  },
  {
   "cell_type": "code",
   "execution_count": 1,
   "id": "15ed16d4",
   "metadata": {},
   "outputs": [],
   "source": [
    "# Python versão 3.8.8\n",
    "# Windows 10\n",
    "\n",
    "# bibliotecas para baixar arquivos e extrair arquivos zip\n",
    "import urllib # versão 1.26.6\n",
    "import urllib.request # versão 1.26.6\n",
    "\n",
    "# biblioteca para realizar requisição\n",
    "import requests # versão 2.25.1\n",
    "\n",
    "# biblioteca para interação com o sistema\n",
    "import os\n",
    "import shutil\n",
    "\n",
    "# biblioeca para manipulação de dados\n",
    "import pandas as pd # versão 1.3.2\n",
    "\n",
    "# biblioteca para manipulação de banco de dados sqlite\n",
    "import sqlite3 # versão 2.6.0\n",
    "from sqlite3 import Error\n",
    "\n",
    "import warnings\n",
    "warnings.filterwarnings('ignore', category=UserWarning, module='openpyxl')"
   ]
  },
  {
   "cell_type": "markdown",
   "id": "410918f9",
   "metadata": {},
   "source": [
    "## Variáveis Globais"
   ]
  },
  {
   "cell_type": "code",
   "execution_count": 2,
   "id": "7a770579",
   "metadata": {},
   "outputs": [],
   "source": [
    "path_atual = os.path.dirname(os.path.realpath('__file__')) + \"\\\\\"\n",
    "nome_bd = \"DW_Covid.sqlite\""
   ]
  },
  {
   "cell_type": "markdown",
   "id": "6ac7781f",
   "metadata": {},
   "source": [
    "## Estabelecendo Conexão com Banco de Dados"
   ]
  },
  {
   "cell_type": "code",
   "execution_count": 3,
   "id": "401568c8",
   "metadata": {},
   "outputs": [
    {
     "name": "stdout",
     "output_type": "stream",
     "text": [
      "Conexão ao banco 'DW_Covid.sqlite' realizada com sucesso.\n"
     ]
    }
   ],
   "source": [
    "conec_bd = sqlite3.connect(path_atual + nome_bd)\n",
    "cursor = conec_bd.cursor()\n",
    "print(\"Conexão ao banco '{}' realizada com sucesso.\".format(nome_bd))\n",
    "conec_bd.commit()"
   ]
  },
  {
   "cell_type": "markdown",
   "id": "cc7b6230",
   "metadata": {},
   "source": [
    "## Importando Tabela do Banco de Dados"
   ]
  },
  {
   "cell_type": "code",
   "execution_count": 4,
   "id": "9171fff9",
   "metadata": {},
   "outputs": [],
   "source": [
    "data_casosCovid = pd.read_sql_query(\"SELECT * FROM Casos_Covid\", conec_bd)"
   ]
  },
  {
   "cell_type": "markdown",
   "id": "81ccd514",
   "metadata": {},
   "source": [
    "## Tratamento de dados"
   ]
  },
  {
   "cell_type": "code",
   "execution_count": 5,
   "id": "9b17f26d",
   "metadata": {},
   "outputs": [],
   "source": [
    "data_casosCovid.last_available_date = pd.to_datetime(data_casosCovid.last_available_date)\n",
    "data_casosCovid.date = pd.to_datetime(data_casosCovid.date)"
   ]
  },
  {
   "cell_type": "code",
   "execution_count": 6,
   "id": "3113920a",
   "metadata": {},
   "outputs": [
    {
     "data": {
      "text/html": [
       "<div>\n",
       "<style scoped>\n",
       "    .dataframe tbody tr th:only-of-type {\n",
       "        vertical-align: middle;\n",
       "    }\n",
       "\n",
       "    .dataframe tbody tr th {\n",
       "        vertical-align: top;\n",
       "    }\n",
       "\n",
       "    .dataframe thead th {\n",
       "        text-align: right;\n",
       "    }\n",
       "</style>\n",
       "<table border=\"1\" class=\"dataframe\">\n",
       "  <thead>\n",
       "    <tr style=\"text-align: right;\">\n",
       "      <th></th>\n",
       "      <th>city</th>\n",
       "      <th>city_ibge_code</th>\n",
       "      <th>date</th>\n",
       "      <th>epidemiological_week</th>\n",
       "      <th>estimated_population</th>\n",
       "      <th>estimated_population_2019</th>\n",
       "      <th>is_last</th>\n",
       "      <th>is_repeated</th>\n",
       "      <th>last_available_confirmed</th>\n",
       "      <th>last_available_confirmed_per_100k_inhabitants</th>\n",
       "      <th>last_available_date</th>\n",
       "      <th>last_available_death_rate</th>\n",
       "      <th>last_available_deaths</th>\n",
       "      <th>order_for_place</th>\n",
       "      <th>place_type</th>\n",
       "      <th>state</th>\n",
       "      <th>new_confirmed</th>\n",
       "      <th>new_deaths</th>\n",
       "    </tr>\n",
       "  </thead>\n",
       "  <tbody>\n",
       "    <tr>\n",
       "      <th>0</th>\n",
       "      <td>Rio Branco</td>\n",
       "      <td>1200401.0</td>\n",
       "      <td>2020-03-17</td>\n",
       "      <td>202012</td>\n",
       "      <td>413418.0</td>\n",
       "      <td>407319.0</td>\n",
       "      <td>0</td>\n",
       "      <td>0</td>\n",
       "      <td>3</td>\n",
       "      <td>0.72566</td>\n",
       "      <td>2020-03-17</td>\n",
       "      <td>0.0</td>\n",
       "      <td>0</td>\n",
       "      <td>1</td>\n",
       "      <td>city</td>\n",
       "      <td>AC</td>\n",
       "      <td>3</td>\n",
       "      <td>0</td>\n",
       "    </tr>\n",
       "    <tr>\n",
       "      <th>1</th>\n",
       "      <td>None</td>\n",
       "      <td>12.0</td>\n",
       "      <td>2020-03-17</td>\n",
       "      <td>202012</td>\n",
       "      <td>894470.0</td>\n",
       "      <td>881935.0</td>\n",
       "      <td>0</td>\n",
       "      <td>0</td>\n",
       "      <td>3</td>\n",
       "      <td>0.33539</td>\n",
       "      <td>2020-03-17</td>\n",
       "      <td>0.0</td>\n",
       "      <td>0</td>\n",
       "      <td>1</td>\n",
       "      <td>state</td>\n",
       "      <td>AC</td>\n",
       "      <td>3</td>\n",
       "      <td>0</td>\n",
       "    </tr>\n",
       "    <tr>\n",
       "      <th>2</th>\n",
       "      <td>Rio Branco</td>\n",
       "      <td>1200401.0</td>\n",
       "      <td>2020-03-18</td>\n",
       "      <td>202012</td>\n",
       "      <td>413418.0</td>\n",
       "      <td>407319.0</td>\n",
       "      <td>0</td>\n",
       "      <td>0</td>\n",
       "      <td>3</td>\n",
       "      <td>0.72566</td>\n",
       "      <td>2020-03-18</td>\n",
       "      <td>0.0</td>\n",
       "      <td>0</td>\n",
       "      <td>2</td>\n",
       "      <td>city</td>\n",
       "      <td>AC</td>\n",
       "      <td>0</td>\n",
       "      <td>0</td>\n",
       "    </tr>\n",
       "    <tr>\n",
       "      <th>3</th>\n",
       "      <td>None</td>\n",
       "      <td>12.0</td>\n",
       "      <td>2020-03-18</td>\n",
       "      <td>202012</td>\n",
       "      <td>894470.0</td>\n",
       "      <td>881935.0</td>\n",
       "      <td>0</td>\n",
       "      <td>0</td>\n",
       "      <td>3</td>\n",
       "      <td>0.33539</td>\n",
       "      <td>2020-03-18</td>\n",
       "      <td>0.0</td>\n",
       "      <td>0</td>\n",
       "      <td>2</td>\n",
       "      <td>state</td>\n",
       "      <td>AC</td>\n",
       "      <td>0</td>\n",
       "      <td>0</td>\n",
       "    </tr>\n",
       "  </tbody>\n",
       "</table>\n",
       "</div>"
      ],
      "text/plain": [
       "         city  city_ibge_code       date  epidemiological_week  \\\n",
       "0  Rio Branco       1200401.0 2020-03-17                202012   \n",
       "1        None            12.0 2020-03-17                202012   \n",
       "2  Rio Branco       1200401.0 2020-03-18                202012   \n",
       "3        None            12.0 2020-03-18                202012   \n",
       "\n",
       "   estimated_population  estimated_population_2019  is_last  is_repeated  \\\n",
       "0              413418.0                   407319.0        0            0   \n",
       "1              894470.0                   881935.0        0            0   \n",
       "2              413418.0                   407319.0        0            0   \n",
       "3              894470.0                   881935.0        0            0   \n",
       "\n",
       "   last_available_confirmed  last_available_confirmed_per_100k_inhabitants  \\\n",
       "0                         3                                        0.72566   \n",
       "1                         3                                        0.33539   \n",
       "2                         3                                        0.72566   \n",
       "3                         3                                        0.33539   \n",
       "\n",
       "  last_available_date  last_available_death_rate  last_available_deaths  \\\n",
       "0          2020-03-17                        0.0                      0   \n",
       "1          2020-03-17                        0.0                      0   \n",
       "2          2020-03-18                        0.0                      0   \n",
       "3          2020-03-18                        0.0                      0   \n",
       "\n",
       "   order_for_place place_type state  new_confirmed  new_deaths  \n",
       "0                1       city    AC              3           0  \n",
       "1                1      state    AC              3           0  \n",
       "2                2       city    AC              0           0  \n",
       "3                2      state    AC              0           0  "
      ]
     },
     "execution_count": 6,
     "metadata": {},
     "output_type": "execute_result"
    }
   ],
   "source": [
    "data_casosCovid.head(4)"
   ]
  },
  {
   "cell_type": "code",
   "execution_count": 7,
   "id": "e819aeb6",
   "metadata": {},
   "outputs": [],
   "source": [
    "conec_bd.close()"
   ]
  }
 ],
 "metadata": {
  "kernelspec": {
   "display_name": "Python 3",
   "language": "python",
   "name": "python3"
  },
  "language_info": {
   "codemirror_mode": {
    "name": "ipython",
    "version": 3
   },
   "file_extension": ".py",
   "mimetype": "text/x-python",
   "name": "python",
   "nbconvert_exporter": "python",
   "pygments_lexer": "ipython3",
   "version": "3.8.8"
  }
 },
 "nbformat": 4,
 "nbformat_minor": 5
}
