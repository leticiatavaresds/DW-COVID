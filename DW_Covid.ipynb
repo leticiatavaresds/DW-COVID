{
 "cells": [
  {
   "cell_type": "code",
   "execution_count": null,
   "id": "4573950d",
   "metadata": {},
   "outputs": [],
   "source": [
    "# Python versão 3.8.8\n",
    "# Windows 10\n",
    "\n",
    "# bibliotecas para baixar arquivos e extrair arquivos zip\n",
    "import urllib # versão 1.26.6\n",
    "import urllib.request # versão 1.26.6\n",
    "import zipfile # defaut version 20\n",
    "\n",
    "# biblioteca para realizar requisição\n",
    "import requests # versão 2.25.1\n",
    "\n",
    "# biblioteca para interação com o sistema\n",
    "import os\n",
    "import shutil\n",
    "\n",
    "# biblioeca para manipulação de dados\n",
    "import pandas as pd # versão 1.3.2\n",
    "import unidecode\n",
    "\n",
    "# biblioteca para manipulação de banco de dados sqlite\n",
    "import sqlite3 # versão 2.6.0\n",
    "from sqlite3 import Error\n",
    "\n",
    "import warnings\n",
    "warnings.filterwarnings('ignore', category=UserWarning, module='openpyxl')"
   ]
  },
  {
   "cell_type": "code",
   "execution_count": null,
   "id": "6f094c99",
   "metadata": {},
   "outputs": [],
   "source": [
    "#Função para realizar o download de um arquivo através de uma url e salva-lo no diretório dado\n",
    "def download_arquivo(url, path_arquivo, nome_arquivo):\n",
    "    \n",
    "    mensagem_download = \"Realizando Download do Arquivo '{}'...\".format(nome_arquivo)\n",
    "    mensagem_sucesso = 'Arquivo {} salvo com sucesso.'.format(nome_arquivo).ljust(len(mensagem_download))\n",
    "\n",
    "    print(mensagem_download, end=\"\\r\", flush=True)\n",
    "\n",
    "    requisicao_arq = requests.get(url, path_arquivo + nome_arquivo)\n",
    "    url_content = requisicao_arq.content\n",
    "    csv = open(path_arquivo + nome_arquivo, 'wb')\n",
    "    csv.write(url_content)\n",
    "    csv.close()\n",
    "    print(mensagem_sucesso, end=\"\\n\")\n",
    "        \n",
    "        \n",
    "# Função para extrair os metadados do zip (apaga o arquivo zip apos dar unzip)\n",
    "def extrair_zip(path_arquivo, nome_arquivo):\n",
    "        \n",
    "    if (os.path.isfile(path_arquivo + nome_arquivo)):\n",
    "        \n",
    "        ano_enade = nome_arquivo.split(\"_\")[2].replace(\".zip\", \"\")\n",
    "\n",
    "        \n",
    "        if ano_enade == \"2018\":        \n",
    "            with zipfile.ZipFile(path_arquivo + nome_arquivo, 'r') as zip_ref:\n",
    "                zip_ref.extractall(path_arquivo)  \n",
    "        else:\n",
    "            with zipfile.ZipFile(path_arquivo + nome_arquivo, 'r') as zip_ref:\n",
    "                zip_ref.extractall(path_arquivo + \"\\\\\" + ano_enade + \"\\\\\")  \n",
    "                \n",
    "        print(\"Pasta com metadados do ano {} extraída e salva no diretório.\".format(ano_enade), end=\"\\n\")\n",
    "#         os.remove(path_arquivo + nome_arquivo)"
   ]
  }
 ],
 "metadata": {
  "kernelspec": {
   "display_name": "Python 3",
   "language": "python",
   "name": "python3"
  },
  "language_info": {
   "codemirror_mode": {
    "name": "ipython",
    "version": 3
   },
   "file_extension": ".py",
   "mimetype": "text/x-python",
   "name": "python",
   "nbconvert_exporter": "python",
   "pygments_lexer": "ipython3",
   "version": "3.8.8"
  }
 },
 "nbformat": 4,
 "nbformat_minor": 5
}
