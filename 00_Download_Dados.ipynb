{
 "cells": [
  {
   "cell_type": "markdown",
   "id": "c1daab3f",
   "metadata": {},
   "source": [
    "## Importação de Bibliotecas"
   ]
  },
  {
   "cell_type": "code",
   "execution_count": 49,
   "id": "671e1820",
   "metadata": {},
   "outputs": [],
   "source": [
    "# Python versão 3.8.8\n",
    "# Windows 10\n",
    "\n",
    "# biblioteca para realizar requisição\n",
    "import requests # versão 2.25.1\n",
    "\n",
    "# biblioteca para interação com o sistema\n",
    "import os"
   ]
  },
  {
   "cell_type": "markdown",
   "id": "5bf33ad3",
   "metadata": {},
   "source": [
    "## Variáveis Globais"
   ]
  },
  {
   "cell_type": "code",
   "execution_count": 50,
   "id": "82481f1d",
   "metadata": {},
   "outputs": [],
   "source": [
    "path_atual = os.path.dirname(os.path.realpath('__file__')) + \"\\\\\" # diretório onde se encontra o script\n",
    "path_dados = path_atual + \"Microdados_Covid_SP\\\\\""
   ]
  },
  {
   "cell_type": "markdown",
   "id": "254fea59",
   "metadata": {},
   "source": [
    "## Download de Dados"
   ]
  },
  {
   "cell_type": "code",
   "execution_count": 51,
   "id": "711b2069",
   "metadata": {},
   "outputs": [],
   "source": [
    "# Função que realiza o download de um arquivo através de uma url dada e o salva no diretório dado\n",
    "\n",
    "def download_arquivo(url, path_arquivo, nome_arquivo = None):\n",
    "    \n",
    "    mensagem_download = \"Realizando Download do Arquivo '{}'...\".format(nome_arquivo)\n",
    "    mensagem_sucesso = 'Arquivo {} salvo com sucesso.'.format(nome_arquivo).ljust(len(mensagem_download))    \n",
    "\n",
    "    if not os.path.exists(path_arquivo):\n",
    "        os.makedirs(path_arquivo)         \n",
    "\n",
    "    if nome_arquivo is None:\n",
    "        nome_arquivo = url.split('/')[-1].replace(\" \", \"_\")\n",
    "            \n",
    "    # Realiza o donwload se o arquivo ainda nao existe no diretório\n",
    "    headers = {'User-Agent': 'Mozilla/5.0'}\n",
    "        \n",
    "    path_arquivo = os.path.join(path_arquivo, nome_arquivo)\n",
    "    request_url = requests.get(url, headers=headers)\n",
    "\n",
    "    if request_url.ok:\n",
    "        print(mensagem_download, end=\"\\r\", flush=True)\n",
    "\n",
    "        with open(path_arquivo, 'wb') as arquivo:\n",
    "            arquivo.write(request_url.content)\n",
    "        \n",
    "        print(mensagem_sucesso) \n",
    "\n",
    "    else:\n",
    "        print(\"Falha no Download: status code {}\\n{}\".format(request_url.status_code, request_url.text))"
   ]
  },
  {
   "cell_type": "markdown",
   "id": "3bb5acb5",
   "metadata": {},
   "source": [
    "### Casos e óbitos SP"
   ]
  },
  {
   "cell_type": "code",
   "execution_count": 52,
   "id": "ad2b9bc0",
   "metadata": {},
   "outputs": [
    {
     "name": "stdout",
     "output_type": "stream",
     "text": [
      "Arquivo Casos_e_obitos_ESP.zip salvo com sucesso.         \n"
     ]
    }
   ],
   "source": [
    "url = \"https://www.saopaulo.sp.gov.br/wp-content/uploads/2021/10/20211030_Casos-e-obitos-ESP.zip\"\n",
    "download_arquivo(url, path_dados, \"Casos_e_obitos_ESP.zip\")"
   ]
  },
  {
   "cell_type": "markdown",
   "id": "f157f59d",
   "metadata": {},
   "source": [
    "### Casos e óbitos MG"
   ]
  },
  {
   "cell_type": "code",
   "execution_count": 53,
   "id": "05757bea",
   "metadata": {},
   "outputs": [
    {
     "name": "stdout",
     "output_type": "stream",
     "text": [
      "Arquivo CSV_Sistemas.zip salvo com sucesso.         \n"
     ]
    }
   ],
   "source": [
    "url = \"http://sescloud.saude.mg.gov.br/index.php/s/ZEzzC8jFpobXGjM/download?path=%2FSISTEMAS&files=CSV_Sistemas.zip\"\n",
    "download_arquivo(url, path_dados, \"CSV_Sistemas.zip\")"
   ]
  },
  {
   "cell_type": "markdown",
   "id": "ba1570b8",
   "metadata": {},
   "source": [
    "### Estimativa População IBGE"
   ]
  },
  {
   "cell_type": "code",
   "execution_count": 54,
   "id": "f6b7d781",
   "metadata": {},
   "outputs": [
    {
     "name": "stdout",
     "output_type": "stream",
     "text": [
      "Arquivo Estimativa_Populacao_IBGE.xls salvo com sucesso.         \n"
     ]
    }
   ],
   "source": [
    "url = \"https://ftp.ibge.gov.br/Estimativas_de_Populacao/Estimativas_2021/POP2021_20211029.xls\"\n",
    "download_arquivo(url, path_dados, \"Estimativa_Populacao_IBGE.xls\")"
   ]
  }
 ],
 "metadata": {
  "kernelspec": {
   "display_name": "Python 3",
   "language": "python",
   "name": "python3"
  },
  "language_info": {
   "codemirror_mode": {
    "name": "ipython",
    "version": 3
   },
   "file_extension": ".py",
   "mimetype": "text/x-python",
   "name": "python",
   "nbconvert_exporter": "python",
   "pygments_lexer": "ipython3",
   "version": "3.8.8"
  }
 },
 "nbformat": 4,
 "nbformat_minor": 5
}
