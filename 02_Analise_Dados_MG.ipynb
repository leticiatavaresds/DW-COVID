{
 "cells": [
  {
   "cell_type": "markdown",
   "id": "c1daab3f",
   "metadata": {},
   "source": [
    "## Importação de Bibliotecas"
   ]
  },
  {
   "cell_type": "code",
   "execution_count": 45,
   "id": "671e1820",
   "metadata": {},
   "outputs": [],
   "source": [
    "# Python versão 3.8.8\n",
    "# Windows 10\n",
    "\n",
    "# biblioteca para interação com o sistema\n",
    "import os\n",
    "import shutil\n",
    "\n",
    "# biblioteca para manipulação de dados\n",
    "import pandas as pd # versão 1.3.2\n",
    "import numpy as np\n",
    "\n",
    "# biblioteca para manipulação de banco de dados sqlite\n",
    "import sqlite3 # versão 2.6.0\n",
    "from sqlite3 import Error\n",
    "\n",
    "import seaborn as sns\n",
    "\n",
    "import warnings\n",
    "warnings.filterwarnings('ignore', category=UserWarning, module='openpyxl')\n",
    "\n",
    "import matplotlib.pyplot as plt"
   ]
  },
  {
   "cell_type": "markdown",
   "id": "5bf33ad3",
   "metadata": {},
   "source": [
    "## Variáveis Globais"
   ]
  },
  {
   "cell_type": "code",
   "execution_count": 2,
   "id": "82481f1d",
   "metadata": {},
   "outputs": [],
   "source": [
    "path_atual = os.path.dirname(os.path.realpath('__file__')) + \"\\\\\" # diretório onde se encontra o script\n",
    "nome_bd = \"COVID_MG_DW.sqlite\""
   ]
  },
  {
   "cell_type": "markdown",
   "id": "5d355373",
   "metadata": {},
   "source": [
    "## Conexão Banco de Dados"
   ]
  },
  {
   "cell_type": "code",
   "execution_count": 3,
   "id": "b61527c5",
   "metadata": {
    "run_control": {
     "marked": true
    }
   },
   "outputs": [],
   "source": [
    "def nova_conexao(path, nome_bd):\n",
    "\n",
    "    conec_bd = None\n",
    "    try:\n",
    "        conec_bd = sqlite3.connect(path + nome_bd)\n",
    "\n",
    "    except Error as erro:\n",
    "        print(erro)\n",
    "        return 0\n",
    "    \n",
    "    finally:\n",
    "        if conec_bd:\n",
    "            conec_bd.close()\n",
    "    return 1"
   ]
  },
  {
   "cell_type": "code",
   "execution_count": 4,
   "id": "d9acb30b",
   "metadata": {},
   "outputs": [
    {
     "name": "stdout",
     "output_type": "stream",
     "text": [
      "Conexão ao banco 'COVID_MG_DW.sqlite' criada com sucesso.\n"
     ]
    }
   ],
   "source": [
    "if (nova_conexao(path_atual,  nome_bd)):\n",
    "    conec_bd = sqlite3.connect(path_atual + nome_bd)\n",
    "    cursor = conec_bd.cursor()\n",
    "    print(\"Conexão ao banco '{}' criada com sucesso.\".format(nome_bd))\n",
    "    conec_bd.commit()"
   ]
  },
  {
   "cell_type": "markdown",
   "id": "b38cbb36",
   "metadata": {},
   "source": [
    "## Leitura de Dados"
   ]
  },
  {
   "cell_type": "code",
   "execution_count": 5,
   "id": "1c6bfe00",
   "metadata": {},
   "outputs": [],
   "source": [
    "dim_municipio = pd.read_sql_query(\"SELECT * FROM Dim_Municipio\", conec_bd)\n",
    "dim_tempo = pd.read_sql_query(\"SELECT * FROM Dim_Tempo\", conec_bd)\n",
    "dim_paciente = pd.read_sql_query(\"SELECT * FROM Dim_Paciente\", conec_bd)\n",
    "dim_status_tratamento = pd.read_sql_query(\"SELECT * FROM Dim_Status_Tratamento\", conec_bd)\n",
    "fato_internacao = pd.read_sql_query(\"SELECT * FROM Fato_Internacao\", conec_bd)"
   ]
  },
  {
   "cell_type": "code",
   "execution_count": 7,
   "id": "cd30da56",
   "metadata": {},
   "outputs": [
    {
     "data": {
      "text/html": [
       "<div>\n",
       "<style scoped>\n",
       "    .dataframe tbody tr th:only-of-type {\n",
       "        vertical-align: middle;\n",
       "    }\n",
       "\n",
       "    .dataframe tbody tr th {\n",
       "        vertical-align: top;\n",
       "    }\n",
       "\n",
       "    .dataframe thead th {\n",
       "        text-align: right;\n",
       "    }\n",
       "</style>\n",
       "<table border=\"1\" class=\"dataframe\">\n",
       "  <thead>\n",
       "    <tr style=\"text-align: right;\">\n",
       "      <th></th>\n",
       "      <th>ID_PESSOA</th>\n",
       "      <th>GENERO</th>\n",
       "      <th>IDADE</th>\n",
       "      <th>FAIXA_ETARIA</th>\n",
       "    </tr>\n",
       "  </thead>\n",
       "  <tbody>\n",
       "    <tr>\n",
       "      <th>0</th>\n",
       "      <td>378</td>\n",
       "      <td>FEMININO</td>\n",
       "      <td>60.0</td>\n",
       "      <td>60 A 69 ANOS</td>\n",
       "    </tr>\n",
       "    <tr>\n",
       "      <th>1</th>\n",
       "      <td>379</td>\n",
       "      <td>MASCULINO</td>\n",
       "      <td>21.0</td>\n",
       "      <td>20 A 29 ANOS</td>\n",
       "    </tr>\n",
       "    <tr>\n",
       "      <th>2</th>\n",
       "      <td>380</td>\n",
       "      <td>MASCULINO</td>\n",
       "      <td>64.0</td>\n",
       "      <td>60 A 69 ANOS</td>\n",
       "    </tr>\n",
       "    <tr>\n",
       "      <th>3</th>\n",
       "      <td>381</td>\n",
       "      <td>MASCULINO</td>\n",
       "      <td>71.0</td>\n",
       "      <td>70 A 79 ANOS</td>\n",
       "    </tr>\n",
       "    <tr>\n",
       "      <th>4</th>\n",
       "      <td>382</td>\n",
       "      <td>MASCULINO</td>\n",
       "      <td>40.0</td>\n",
       "      <td>40 A 49 ANOS</td>\n",
       "    </tr>\n",
       "    <tr>\n",
       "      <th>...</th>\n",
       "      <td>...</td>\n",
       "      <td>...</td>\n",
       "      <td>...</td>\n",
       "      <td>...</td>\n",
       "    </tr>\n",
       "    <tr>\n",
       "      <th>962243</th>\n",
       "      <td>2042891</td>\n",
       "      <td>FEMININO</td>\n",
       "      <td>87.0</td>\n",
       "      <td>80 A 89 ANOS</td>\n",
       "    </tr>\n",
       "    <tr>\n",
       "      <th>962244</th>\n",
       "      <td>2042892</td>\n",
       "      <td>FEMININO</td>\n",
       "      <td>84.0</td>\n",
       "      <td>80 A 89 ANOS</td>\n",
       "    </tr>\n",
       "    <tr>\n",
       "      <th>962245</th>\n",
       "      <td>2042893</td>\n",
       "      <td>FEMININO</td>\n",
       "      <td>77.0</td>\n",
       "      <td>70 A 79 ANOS</td>\n",
       "    </tr>\n",
       "    <tr>\n",
       "      <th>962246</th>\n",
       "      <td>2042894</td>\n",
       "      <td>FEMININO</td>\n",
       "      <td>82.0</td>\n",
       "      <td>80 A 89 ANOS</td>\n",
       "    </tr>\n",
       "    <tr>\n",
       "      <th>962247</th>\n",
       "      <td>2042895</td>\n",
       "      <td>FEMININO</td>\n",
       "      <td>59.0</td>\n",
       "      <td>50 A 59 ANOS</td>\n",
       "    </tr>\n",
       "  </tbody>\n",
       "</table>\n",
       "<p>962248 rows × 4 columns</p>\n",
       "</div>"
      ],
      "text/plain": [
       "        ID_PESSOA     GENERO  IDADE  FAIXA_ETARIA\n",
       "0             378   FEMININO   60.0  60 A 69 ANOS\n",
       "1             379  MASCULINO   21.0  20 A 29 ANOS\n",
       "2             380  MASCULINO   64.0  60 A 69 ANOS\n",
       "3             381  MASCULINO   71.0  70 A 79 ANOS\n",
       "4             382  MASCULINO   40.0  40 A 49 ANOS\n",
       "...           ...        ...    ...           ...\n",
       "962243    2042891   FEMININO   87.0  80 A 89 ANOS\n",
       "962244    2042892   FEMININO   84.0  80 A 89 ANOS\n",
       "962245    2042893   FEMININO   77.0  70 A 79 ANOS\n",
       "962246    2042894   FEMININO   82.0  80 A 89 ANOS\n",
       "962247    2042895   FEMININO   59.0  50 A 59 ANOS\n",
       "\n",
       "[962248 rows x 4 columns]"
      ]
     },
     "execution_count": 7,
     "metadata": {},
     "output_type": "execute_result"
    }
   ],
   "source": [
    "dim_paciente"
   ]
  },
  {
   "cell_type": "markdown",
   "id": "cf02df97",
   "metadata": {},
   "source": [
    "## Análises"
   ]
  },
  {
   "cell_type": "markdown",
   "id": "4e17d59c",
   "metadata": {},
   "source": [
    "### Análise Correlação Gênero - Obito"
   ]
  },
  {
   "cell_type": "code",
   "execution_count": 8,
   "id": "633072d5",
   "metadata": {},
   "outputs": [],
   "source": [
    "dados_paciente = pd.merge(fato_internacao, dim_paciente, how=\"inner\", on=[\"ID_PESSOA\"])"
   ]
  },
  {
   "cell_type": "code",
   "execution_count": 9,
   "id": "0c07c90a",
   "metadata": {},
   "outputs": [],
   "source": [
    "dados_paciente = pd.merge(dados_paciente, dim_status_tratamento, how=\"inner\", on=[\"ID_PESSOA\"])"
   ]
  },
  {
   "cell_type": "code",
   "execution_count": 10,
   "id": "c14d6581",
   "metadata": {},
   "outputs": [
    {
     "data": {
      "text/html": [
       "<div>\n",
       "<style scoped>\n",
       "    .dataframe tbody tr th:only-of-type {\n",
       "        vertical-align: middle;\n",
       "    }\n",
       "\n",
       "    .dataframe tbody tr th {\n",
       "        vertical-align: top;\n",
       "    }\n",
       "\n",
       "    .dataframe thead th {\n",
       "        text-align: right;\n",
       "    }\n",
       "</style>\n",
       "<table border=\"1\" class=\"dataframe\">\n",
       "  <thead>\n",
       "    <tr style=\"text-align: right;\">\n",
       "      <th></th>\n",
       "      <th>ID_PESSOA</th>\n",
       "      <th>ID_MUNICIPIO</th>\n",
       "      <th>ID_TEMPO</th>\n",
       "      <th>GENERO</th>\n",
       "      <th>IDADE</th>\n",
       "      <th>FAIXA_ETARIA</th>\n",
       "      <th>DIAS_PRA_NOTIFICACAO</th>\n",
       "      <th>EVOLUCAO</th>\n",
       "      <th>INTERNACAO</th>\n",
       "      <th>UTI</th>\n",
       "    </tr>\n",
       "  </thead>\n",
       "  <tbody>\n",
       "    <tr>\n",
       "      <th>0</th>\n",
       "      <td>378</td>\n",
       "      <td>310710.0</td>\n",
       "      <td>2020-03-11 00:00:00</td>\n",
       "      <td>FEMININO</td>\n",
       "      <td>60.0</td>\n",
       "      <td>60 A 69 ANOS</td>\n",
       "      <td>6</td>\n",
       "      <td>RECUPERADO</td>\n",
       "      <td>SIM</td>\n",
       "      <td>SIM</td>\n",
       "    </tr>\n",
       "    <tr>\n",
       "      <th>1</th>\n",
       "      <td>379</td>\n",
       "      <td>310620.0</td>\n",
       "      <td>2020-03-10 00:00:00</td>\n",
       "      <td>MASCULINO</td>\n",
       "      <td>21.0</td>\n",
       "      <td>20 A 29 ANOS</td>\n",
       "      <td>7</td>\n",
       "      <td>RECUPERADO</td>\n",
       "      <td>SIM</td>\n",
       "      <td>SIM</td>\n",
       "    </tr>\n",
       "  </tbody>\n",
       "</table>\n",
       "</div>"
      ],
      "text/plain": [
       "   ID_PESSOA  ID_MUNICIPIO             ID_TEMPO     GENERO  IDADE  \\\n",
       "0        378      310710.0  2020-03-11 00:00:00   FEMININO   60.0   \n",
       "1        379      310620.0  2020-03-10 00:00:00  MASCULINO   21.0   \n",
       "\n",
       "   FAIXA_ETARIA  DIAS_PRA_NOTIFICACAO    EVOLUCAO INTERNACAO  UTI  \n",
       "0  60 A 69 ANOS                     6  RECUPERADO        SIM  SIM  \n",
       "1  20 A 29 ANOS                     7  RECUPERADO        SIM  SIM  "
      ]
     },
     "execution_count": 10,
     "metadata": {},
     "output_type": "execute_result"
    }
   ],
   "source": [
    "dados_paciente.head(2)"
   ]
  },
  {
   "cell_type": "code",
   "execution_count": 10,
   "id": "0cff776c",
   "metadata": {},
   "outputs": [
    {
     "data": {
      "text/plain": [
       "Index(['ID_paciente', 'ID_Tempo', 'ID_Municipio', 'Obito', 'Genero', 'Idade'], dtype='object')"
      ]
     },
     "execution_count": 10,
     "metadata": {},
     "output_type": "execute_result"
    }
   ],
   "source": [
    "dados_paciente.columns"
   ]
  },
  {
   "cell_type": "code",
   "execution_count": 11,
   "id": "a814b2f1",
   "metadata": {},
   "outputs": [
    {
     "data": {
      "text/plain": [
       "<AxesSubplot:xlabel='GENERO', ylabel='count'>"
      ]
     },
     "execution_count": 11,
     "metadata": {},
     "output_type": "execute_result"
    },
    {
     "data": {
      "image/png": "[encoded data removed]",
      "text/plain": [
       "<Figure size 432x288 with 1 Axes>"
      ]
     },
     "metadata": {
      "needs_background": "light"
     },
     "output_type": "display_data"
    }
   ],
   "source": [
    "sns.countplot(data = dados_paciente, x=\"GENERO\")"
   ]
  },
  {
   "cell_type": "code",
   "execution_count": 20,
   "id": "fd9ad17a",
   "metadata": {},
   "outputs": [
    {
     "data": {
      "text/plain": [
       "<AxesSubplot:xlabel='INTERNACAO', ylabel='Count'>"
      ]
     },
     "execution_count": 20,
     "metadata": {},
     "output_type": "execute_result"
    },
    {
     "data": {
      "image/png": "[encoded data removed]",
      "text/plain": [
       "<Figure size 432x288 with 1 Axes>"
      ]
     },
     "metadata": {
      "needs_background": "light"
     },
     "output_type": "display_data"
    }
   ],
   "source": [
    "sns.histplot(data=dados_paciente, x=\"INTERNACAO\", hue=\"GENERO\", multiple=\"dodge\", shrink=.8)"
   ]
  },
  {
   "cell_type": "code",
   "execution_count": 21,
   "id": "773628a8",
   "metadata": {},
   "outputs": [
    {
     "data": {
      "text/plain": [
       "<AxesSubplot:xlabel='UTI', ylabel='Count'>"
      ]
     },
     "execution_count": 21,
     "metadata": {},
     "output_type": "execute_result"
    },
    {
     "data": {
      "image/png": "[encoded data removed]",
      "text/plain": [
       "<Figure size 432x288 with 1 Axes>"
      ]
     },
     "metadata": {
      "needs_background": "light"
     },
     "output_type": "display_data"
    }
   ],
   "source": [
    "sns.histplot(data=dados_paciente, x=\"UTI\", hue=\"GENERO\", multiple=\"dodge\", shrink=.8)"
   ]
  },
  {
   "cell_type": "code",
   "execution_count": 23,
   "id": "74b1b156",
   "metadata": {},
   "outputs": [
    {
     "data": {
      "text/plain": [
       "<AxesSubplot:xlabel='EVOLUCAO', ylabel='Count'>"
      ]
     },
     "execution_count": 23,
     "metadata": {},
     "output_type": "execute_result"
    },
    {
     "data": {
      "image/png": "[encoded data removed]",
      "text/plain": [
       "<Figure size 432x288 with 1 Axes>"
      ]
     },
     "metadata": {
      "needs_background": "light"
     },
     "output_type": "display_data"
    }
   ],
   "source": [
    "sns.histplot(data=dados_paciente, x=\"EVOLUCAO\", hue=\"GENERO\", multiple=\"dodge\", shrink=.8)"
   ]
  },
  {
   "cell_type": "markdown",
   "id": "10781bea",
   "metadata": {},
   "source": [
    "### Análise Idade"
   ]
  },
  {
   "cell_type": "code",
   "execution_count": 25,
   "id": "e0a25474",
   "metadata": {},
   "outputs": [],
   "source": [
    "dados_paciente.IDADE = dados_paciente.IDADE.astype(int)"
   ]
  },
  {
   "cell_type": "code",
   "execution_count": 27,
   "id": "5d4559e9",
   "metadata": {},
   "outputs": [
    {
     "data": {
      "text/plain": [
       "<AxesSubplot:xlabel='IDADE', ylabel='Count'>"
      ]
     },
     "execution_count": 27,
     "metadata": {},
     "output_type": "execute_result"
    },
    {
     "data": {
      "image/png": "[encoded data removed]",
      "text/plain": [
       "<Figure size 432x288 with 1 Axes>"
      ]
     },
     "metadata": {
      "needs_background": "light"
     },
     "output_type": "display_data"
    }
   ],
   "source": [
    "sns.histplot(data = dados_paciente, x=\"IDADE\", bins = 10, binwidth=10, element=\"step\", kde = True)"
   ]
  },
  {
   "cell_type": "code",
   "execution_count": 30,
   "id": "93b1969c",
   "metadata": {},
   "outputs": [
    {
     "data": {
      "text/plain": [
       "<AxesSubplot:xlabel='IDADE', ylabel='Density'>"
      ]
     },
     "execution_count": 30,
     "metadata": {},
     "output_type": "execute_result"
    },
    {
     "data": {
      "image/png": "[encoded data removed]",
      "text/plain": [
       "<Figure size 432x288 with 1 Axes>"
      ]
     },
     "metadata": {
      "needs_background": "light"
     },
     "output_type": "display_data"
    }
   ],
   "source": [
    "sns.kdeplot(data=dados_paciente, x=\"IDADE\", hue = \"EVOLUCAO\")"
   ]
  },
  {
   "cell_type": "code",
   "execution_count": 31,
   "id": "9e5db3af",
   "metadata": {},
   "outputs": [
    {
     "data": {
      "text/plain": [
       "<AxesSubplot:xlabel='IDADE', ylabel='Density'>"
      ]
     },
     "execution_count": 31,
     "metadata": {},
     "output_type": "execute_result"
    },
    {
     "data": {
      "image/png": "[encoded data removed]",
      "text/plain": [
       "<Figure size 432x288 with 1 Axes>"
      ]
     },
     "metadata": {
      "needs_background": "light"
     },
     "output_type": "display_data"
    }
   ],
   "source": [
    "sns.kdeplot(data=dados_paciente, x=\"IDADE\", hue = \"INTERNACAO\")"
   ]
  },
  {
   "cell_type": "code",
   "execution_count": 32,
   "id": "e5610fd7",
   "metadata": {
    "scrolled": true
   },
   "outputs": [
    {
     "data": {
      "text/plain": [
       "<AxesSubplot:xlabel='IDADE', ylabel='Density'>"
      ]
     },
     "execution_count": 32,
     "metadata": {},
     "output_type": "execute_result"
    },
    {
     "data": {
      "image/png": "[encoded data removed]",
      "text/plain": [
       "<Figure size 432x288 with 1 Axes>"
      ]
     },
     "metadata": {
      "needs_background": "light"
     },
     "output_type": "display_data"
    }
   ],
   "source": [
    "sns.kdeplot(data=dados_paciente, x=\"IDADE\", hue = \"UTI\")"
   ]
  },
  {
   "cell_type": "code",
   "execution_count": 19,
   "id": "34cb203b",
   "metadata": {},
   "outputs": [
    {
     "data": {
      "image/png": "[encoded data removed]",
      "text/plain": [
       "<Figure size 432x216 with 2 Axes>"
      ]
     },
     "metadata": {
      "needs_background": "light"
     },
     "output_type": "display_data"
    }
   ],
   "source": [
    "# plot = sns.FacetGrid(dados_paciente,col=\"Obito\")\n",
    "# plot = plot.map(sns.histplot, \"Idade\", kde=True)\n",
    "# plot.fig.subplots_adjust(top=0.8)"
   ]
  },
  {
   "cell_type": "code",
   "execution_count": 33,
   "id": "4edfe9cd",
   "metadata": {},
   "outputs": [],
   "source": [
    "# g = sns.catplot(x=\"Obito\",y=\"Idade\",data=dados_paciente,kind=\"bar\", height = 6)"
   ]
  },
  {
   "cell_type": "code",
   "execution_count": 34,
   "id": "a88046c5",
   "metadata": {},
   "outputs": [],
   "source": [
    "# dados_paciente[[\"Obito\", \"Idade\"]].corr()"
   ]
  },
  {
   "cell_type": "code",
   "execution_count": null,
   "id": "37083ff1",
   "metadata": {},
   "outputs": [],
   "source": [
    "# sns.kdeplot(data = dados_paciente, x=\"Obito\", y=\"Idade\", multiple=\"stack\")"
   ]
  },
  {
   "cell_type": "markdown",
   "id": "27866b09",
   "metadata": {},
   "source": [
    "### Análise Faixa Etária"
   ]
  },
  {
   "cell_type": "code",
   "execution_count": 35,
   "id": "d842897a",
   "metadata": {},
   "outputs": [
    {
     "data": {
      "text/plain": [
       "<AxesSubplot:xlabel='FAIXA_ETARIA', ylabel='count'>"
      ]
     },
     "execution_count": 35,
     "metadata": {},
     "output_type": "execute_result"
    },
    {
     "data": {
      "image/png": "[encoded data removed]",
      "text/plain": [
       "<Figure size 432x288 with 1 Axes>"
      ]
     },
     "metadata": {
      "needs_background": "light"
     },
     "output_type": "display_data"
    }
   ],
   "source": [
    "sns.countplot(data = dados_paciente, x=\"FAIXA_ETARIA\")"
   ]
  },
  {
   "cell_type": "code",
   "execution_count": 36,
   "id": "7132890a",
   "metadata": {},
   "outputs": [
    {
     "data": {
      "text/plain": [
       "<AxesSubplot:xlabel='INTERNACAO', ylabel='Count'>"
      ]
     },
     "execution_count": 36,
     "metadata": {},
     "output_type": "execute_result"
    },
    {
     "data": {
      "image/png": "[encoded data removed]",
      "text/plain": [
       "<Figure size 432x288 with 1 Axes>"
      ]
     },
     "metadata": {
      "needs_background": "light"
     },
     "output_type": "display_data"
    }
   ],
   "source": [
    "sns.histplot(data=dados_paciente, x=\"INTERNACAO\", hue=\"FAIXA_ETARIA\", multiple=\"dodge\", shrink=.8)"
   ]
  },
  {
   "cell_type": "code",
   "execution_count": 37,
   "id": "049c829e",
   "metadata": {
    "run_control": {
     "marked": true
    }
   },
   "outputs": [
    {
     "data": {
      "text/plain": [
       "<AxesSubplot:xlabel='UTI', ylabel='Count'>"
      ]
     },
     "execution_count": 37,
     "metadata": {},
     "output_type": "execute_result"
    },
    {
     "data": {
      "image/png": "[encoded data removed]",
      "text/plain": [
       "<Figure size 432x288 with 1 Axes>"
      ]
     },
     "metadata": {
      "needs_background": "light"
     },
     "output_type": "display_data"
    }
   ],
   "source": [
    "sns.histplot(data=dados_paciente, x=\"UTI\", hue=\"FAIXA_ETARIA\", multiple=\"dodge\", shrink=.8)"
   ]
  },
  {
   "cell_type": "code",
   "execution_count": 38,
   "id": "ec8f3967",
   "metadata": {
    "scrolled": true
   },
   "outputs": [
    {
     "data": {
      "text/plain": [
       "<AxesSubplot:xlabel='EVOLUCAO', ylabel='Count'>"
      ]
     },
     "execution_count": 38,
     "metadata": {},
     "output_type": "execute_result"
    },
    {
     "data": {
      "image/png": "[encoded data removed]",
      "text/plain": [
       "<Figure size 432x288 with 1 Axes>"
      ]
     },
     "metadata": {
      "needs_background": "light"
     },
     "output_type": "display_data"
    }
   ],
   "source": [
    "sns.histplot(data=dados_paciente, x=\"EVOLUCAO\", hue=\"FAIXA_ETARIA\", multiple=\"dodge\", shrink=.8)"
   ]
  },
  {
   "cell_type": "markdown",
   "id": "3006984d",
   "metadata": {},
   "source": [
    "### Análise Micro Região"
   ]
  },
  {
   "cell_type": "code",
   "execution_count": 148,
   "id": "00ad2030",
   "metadata": {},
   "outputs": [],
   "source": [
    "dados_municipios = pd.merge(dados_paciente, dim_municipio, how=\"inner\", on=[\"ID_MUNICIPIO\"])"
   ]
  },
  {
   "cell_type": "code",
   "execution_count": 149,
   "id": "8caba923",
   "metadata": {},
   "outputs": [],
   "source": [
    "dados_municipios[\"POPULAÇÃO_ESTIMADA\"] = dados_municipios[\"POPULAÇÃO_ESTIMADA\"].astype(int)"
   ]
  },
  {
   "cell_type": "markdown",
   "id": "3bc5ca18",
   "metadata": {},
   "source": [
    "#### Casos"
   ]
  },
  {
   "cell_type": "code",
   "execution_count": 82,
   "id": "ff60a213",
   "metadata": {},
   "outputs": [],
   "source": [
    "df_casos = dados_municipios.MACRO.value_counts().to_frame(\"Casos\")"
   ]
  },
  {
   "cell_type": "code",
   "execution_count": 83,
   "id": "cf19d847",
   "metadata": {},
   "outputs": [],
   "source": [
    "dados_macro = dados_municipios.drop_duplicates(subset = \"MUNICIPIO_RESIDENCIA\").reset_index()\n",
    "df_pop = dados_macro.groupby([\"MACRO\"])[\"POPULAÇÃO_ESTIMADA\"].sum().to_frame(\"Populacao\")"
   ]
  },
  {
   "cell_type": "code",
   "execution_count": 88,
   "id": "6902beb9",
   "metadata": {},
   "outputs": [],
   "source": [
    "df_macro = df_casos.join(df_pop).reset_index()"
   ]
  },
  {
   "cell_type": "code",
   "execution_count": 110,
   "id": "154be87a",
   "metadata": {},
   "outputs": [],
   "source": [
    "df_macro[\"Casos/Populacao\"] = (df_macro.Casos/df_macro.Populacao * 100)"
   ]
  },
  {
   "cell_type": "code",
   "execution_count": 113,
   "id": "93e1e512",
   "metadata": {},
   "outputs": [
    {
     "data": {
      "text/plain": [
       "<AxesSubplot:xlabel='Casos', ylabel='index'>"
      ]
     },
     "execution_count": 113,
     "metadata": {},
     "output_type": "execute_result"
    },
    {
     "data": {
      "image/png": "[encoded data removed]",
      "text/plain": [
       "<Figure size 432x288 with 1 Axes>"
      ]
     },
     "metadata": {
      "needs_background": "light"
     },
     "output_type": "display_data"
    }
   ],
   "source": [
    "sns.barplot(x=\"Casos\", y=\"index\", data=df_macro)"
   ]
  },
  {
   "cell_type": "code",
   "execution_count": 116,
   "id": "ba7aa342",
   "metadata": {
    "run_control": {
     "marked": true
    }
   },
   "outputs": [
    {
     "data": {
      "text/plain": [
       "<AxesSubplot:xlabel='Casos/Populacao', ylabel='index'>"
      ]
     },
     "execution_count": 116,
     "metadata": {},
     "output_type": "execute_result"
    },
    {
     "data": {
      "image/png": "[encoded data removed]",
      "text/plain": [
       "<Figure size 432x288 with 1 Axes>"
      ]
     },
     "metadata": {
      "needs_background": "light"
     },
     "output_type": "display_data"
    }
   ],
   "source": [
    "sns.barplot(x=\"Casos/Populacao\", y=\"index\", data=df_macro)"
   ]
  },
  {
   "cell_type": "markdown",
   "id": "75a7e47b",
   "metadata": {},
   "source": [
    "#### Obitos"
   ]
  },
  {
   "cell_type": "code",
   "execution_count": 150,
   "id": "966fe42d",
   "metadata": {},
   "outputs": [],
   "source": [
    "dados_municipios.EVOLUCAO = np.where(dados_municipios.EVOLUCAO == \"OBITO\", 1, 0)"
   ]
  },
  {
   "cell_type": "code",
   "execution_count": 168,
   "id": "a1aa5043",
   "metadata": {},
   "outputs": [],
   "source": [
    "dados_macro_obitos = dados_municipios.groupby([\"MACRO\"])[\"EVOLUCAO\"].sum().to_frame(\"Obitos\")\n",
    "dados_macro_populacao = dados_macro.groupby([\"MACRO\"])[\"POPULAÇÃO_ESTIMADA\"].sum().to_frame(\"Populacao\")"
   ]
  },
  {
   "cell_type": "code",
   "execution_count": 169,
   "id": "f95a591e",
   "metadata": {
    "run_control": {
     "marked": true
    }
   },
   "outputs": [],
   "source": [
    "dados_macro_obtpop = dados_macro_obitos.join(dados_macro_populacao)\n",
    "dados_macro_obtpop[\"Obitos/Populacao\"] =  dados_macro_obtpop[\"Obitos\"] / dados_macro_obtpop[\"Populacao\"] "
   ]
  },
  {
   "cell_type": "code",
   "execution_count": 171,
   "id": "40ce30ef",
   "metadata": {
    "run_control": {
     "marked": true
    }
   },
   "outputs": [],
   "source": [
    "dados_macro_obtcasos = dados_macro_obtpop.join(df_casos).reset_index()"
   ]
  },
  {
   "cell_type": "code",
   "execution_count": 133,
   "id": "3efb667c",
   "metadata": {},
   "outputs": [
    {
     "data": {
      "text/plain": [
       "<AxesSubplot:xlabel='Obitos', ylabel='MACRO'>"
      ]
     },
     "execution_count": 133,
     "metadata": {},
     "output_type": "execute_result"
    },
    {
     "data": {
      "image/png": "[encoded data removed]",
      "text/plain": [
       "<Figure size 432x288 with 1 Axes>"
      ]
     },
     "metadata": {
      "needs_background": "light"
     },
     "output_type": "display_data"
    }
   ],
   "source": [
    "sns.barplot(x=\"Obitos\", y=\"MACRO\", data=dados_macro_obtpop)"
   ]
  },
  {
   "cell_type": "code",
   "execution_count": 135,
   "id": "1dcf8d02",
   "metadata": {},
   "outputs": [
    {
     "data": {
      "text/plain": [
       "<AxesSubplot:xlabel='Obitos/Populacao', ylabel='MACRO'>"
      ]
     },
     "execution_count": 135,
     "metadata": {},
     "output_type": "execute_result"
    },
    {
     "data": {
      "image/png": "[encoded data removed]",
      "text/plain": [
       "<Figure size 432x288 with 1 Axes>"
      ]
     },
     "metadata": {
      "needs_background": "light"
     },
     "output_type": "display_data"
    }
   ],
   "source": [
    "sns.barplot(x=\"Obitos/Populacao\", y=\"MACRO\", data=dados_macro_obtpop)"
   ]
  },
  {
   "cell_type": "code",
   "execution_count": 175,
   "id": "7812e26d",
   "metadata": {},
   "outputs": [],
   "source": [
    "dados_macro_obtcasos[\"Obitos/Casos\"] = dados_macro_obtcasos[\"Obitos\"] / dados_macro_obtcasos[\"Casos\"] "
   ]
  },
  {
   "cell_type": "code",
   "execution_count": 176,
   "id": "984add74",
   "metadata": {},
   "outputs": [
    {
     "data": {
      "text/html": [
       "<div>\n",
       "<style scoped>\n",
       "    .dataframe tbody tr th:only-of-type {\n",
       "        vertical-align: middle;\n",
       "    }\n",
       "\n",
       "    .dataframe tbody tr th {\n",
       "        vertical-align: top;\n",
       "    }\n",
       "\n",
       "    .dataframe thead th {\n",
       "        text-align: right;\n",
       "    }\n",
       "</style>\n",
       "<table border=\"1\" class=\"dataframe\">\n",
       "  <thead>\n",
       "    <tr style=\"text-align: right;\">\n",
       "      <th></th>\n",
       "      <th>MACRO</th>\n",
       "      <th>Obitos</th>\n",
       "      <th>Populacao</th>\n",
       "      <th>Obitos/Populacao</th>\n",
       "      <th>Casos</th>\n",
       "      <th>Obitos/Casos</th>\n",
       "    </tr>\n",
       "  </thead>\n",
       "  <tbody>\n",
       "    <tr>\n",
       "      <th>0</th>\n",
       "      <td>CENTRO</td>\n",
       "      <td>14974</td>\n",
       "      <td>6727252</td>\n",
       "      <td>0.002226</td>\n",
       "      <td>185346</td>\n",
       "      <td>0.080789</td>\n",
       "    </tr>\n",
       "    <tr>\n",
       "      <th>1</th>\n",
       "      <td>CENTRO SUL</td>\n",
       "      <td>1500</td>\n",
       "      <td>798326</td>\n",
       "      <td>0.001879</td>\n",
       "      <td>30693</td>\n",
       "      <td>0.048871</td>\n",
       "    </tr>\n",
       "    <tr>\n",
       "      <th>2</th>\n",
       "      <td>JEQUITINHONHA</td>\n",
       "      <td>400</td>\n",
       "      <td>408352</td>\n",
       "      <td>0.000980</td>\n",
       "      <td>15886</td>\n",
       "      <td>0.025179</td>\n",
       "    </tr>\n",
       "    <tr>\n",
       "      <th>3</th>\n",
       "      <td>LESTE</td>\n",
       "      <td>1959</td>\n",
       "      <td>693209</td>\n",
       "      <td>0.002826</td>\n",
       "      <td>47771</td>\n",
       "      <td>0.041008</td>\n",
       "    </tr>\n",
       "    <tr>\n",
       "      <th>4</th>\n",
       "      <td>LESTE DO SUL</td>\n",
       "      <td>1429</td>\n",
       "      <td>699214</td>\n",
       "      <td>0.002044</td>\n",
       "      <td>37510</td>\n",
       "      <td>0.038097</td>\n",
       "    </tr>\n",
       "    <tr>\n",
       "      <th>5</th>\n",
       "      <td>NORDESTE</td>\n",
       "      <td>1173</td>\n",
       "      <td>835346</td>\n",
       "      <td>0.001404</td>\n",
       "      <td>38427</td>\n",
       "      <td>0.030525</td>\n",
       "    </tr>\n",
       "    <tr>\n",
       "      <th>6</th>\n",
       "      <td>NOROESTE</td>\n",
       "      <td>1736</td>\n",
       "      <td>714167</td>\n",
       "      <td>0.002431</td>\n",
       "      <td>24784</td>\n",
       "      <td>0.070045</td>\n",
       "    </tr>\n",
       "    <tr>\n",
       "      <th>7</th>\n",
       "      <td>NORTE</td>\n",
       "      <td>2099</td>\n",
       "      <td>1700450</td>\n",
       "      <td>0.001234</td>\n",
       "      <td>43920</td>\n",
       "      <td>0.047791</td>\n",
       "    </tr>\n",
       "    <tr>\n",
       "      <th>8</th>\n",
       "      <td>OESTE</td>\n",
       "      <td>2819</td>\n",
       "      <td>1313161</td>\n",
       "      <td>0.002147</td>\n",
       "      <td>97492</td>\n",
       "      <td>0.028915</td>\n",
       "    </tr>\n",
       "    <tr>\n",
       "      <th>9</th>\n",
       "      <td>SUDESTE</td>\n",
       "      <td>4755</td>\n",
       "      <td>1693470</td>\n",
       "      <td>0.002808</td>\n",
       "      <td>56456</td>\n",
       "      <td>0.084225</td>\n",
       "    </tr>\n",
       "    <tr>\n",
       "      <th>10</th>\n",
       "      <td>SUL</td>\n",
       "      <td>6967</td>\n",
       "      <td>2842451</td>\n",
       "      <td>0.002451</td>\n",
       "      <td>177990</td>\n",
       "      <td>0.039143</td>\n",
       "    </tr>\n",
       "    <tr>\n",
       "      <th>11</th>\n",
       "      <td>TRIANGULO DO NORTE</td>\n",
       "      <td>4884</td>\n",
       "      <td>1327105</td>\n",
       "      <td>0.003680</td>\n",
       "      <td>83037</td>\n",
       "      <td>0.058817</td>\n",
       "    </tr>\n",
       "    <tr>\n",
       "      <th>12</th>\n",
       "      <td>TRIANGULO DO SUL</td>\n",
       "      <td>2555</td>\n",
       "      <td>806172</td>\n",
       "      <td>0.003169</td>\n",
       "      <td>52861</td>\n",
       "      <td>0.048334</td>\n",
       "    </tr>\n",
       "    <tr>\n",
       "      <th>13</th>\n",
       "      <td>VALE DO ACO</td>\n",
       "      <td>2071</td>\n",
       "      <td>853248</td>\n",
       "      <td>0.002427</td>\n",
       "      <td>70075</td>\n",
       "      <td>0.029554</td>\n",
       "    </tr>\n",
       "  </tbody>\n",
       "</table>\n",
       "</div>"
      ],
      "text/plain": [
       "                 MACRO  Obitos  Populacao  Obitos/Populacao   Casos  \\\n",
       "0               CENTRO   14974    6727252          0.002226  185346   \n",
       "1           CENTRO SUL    1500     798326          0.001879   30693   \n",
       "2        JEQUITINHONHA     400     408352          0.000980   15886   \n",
       "3                LESTE    1959     693209          0.002826   47771   \n",
       "4         LESTE DO SUL    1429     699214          0.002044   37510   \n",
       "5             NORDESTE    1173     835346          0.001404   38427   \n",
       "6             NOROESTE    1736     714167          0.002431   24784   \n",
       "7                NORTE    2099    1700450          0.001234   43920   \n",
       "8                OESTE    2819    1313161          0.002147   97492   \n",
       "9              SUDESTE    4755    1693470          0.002808   56456   \n",
       "10                 SUL    6967    2842451          0.002451  177990   \n",
       "11  TRIANGULO DO NORTE    4884    1327105          0.003680   83037   \n",
       "12    TRIANGULO DO SUL    2555     806172          0.003169   52861   \n",
       "13         VALE DO ACO    2071     853248          0.002427   70075   \n",
       "\n",
       "    Obitos/Casos  \n",
       "0       0.080789  \n",
       "1       0.048871  \n",
       "2       0.025179  \n",
       "3       0.041008  \n",
       "4       0.038097  \n",
       "5       0.030525  \n",
       "6       0.070045  \n",
       "7       0.047791  \n",
       "8       0.028915  \n",
       "9       0.084225  \n",
       "10      0.039143  \n",
       "11      0.058817  \n",
       "12      0.048334  \n",
       "13      0.029554  "
      ]
     },
     "execution_count": 176,
     "metadata": {},
     "output_type": "execute_result"
    }
   ],
   "source": [
    "dados_macro_obtcasos"
   ]
  },
  {
   "cell_type": "markdown",
   "id": "dd1c38e7",
   "metadata": {},
   "source": [
    "#### Obitos/Casos"
   ]
  },
  {
   "cell_type": "code",
   "execution_count": 163,
   "id": "61fdbb32",
   "metadata": {},
   "outputs": [
    {
     "data": {
      "text/html": [
       "<div>\n",
       "<style scoped>\n",
       "    .dataframe tbody tr th:only-of-type {\n",
       "        vertical-align: middle;\n",
       "    }\n",
       "\n",
       "    .dataframe tbody tr th {\n",
       "        vertical-align: top;\n",
       "    }\n",
       "\n",
       "    .dataframe thead th {\n",
       "        text-align: right;\n",
       "    }\n",
       "</style>\n",
       "<table border=\"1\" class=\"dataframe\">\n",
       "  <thead>\n",
       "    <tr style=\"text-align: right;\">\n",
       "      <th></th>\n",
       "      <th>Casos</th>\n",
       "    </tr>\n",
       "  </thead>\n",
       "  <tbody>\n",
       "    <tr>\n",
       "      <th>CENTRO</th>\n",
       "      <td>185346</td>\n",
       "    </tr>\n",
       "    <tr>\n",
       "      <th>SUL</th>\n",
       "      <td>177990</td>\n",
       "    </tr>\n",
       "    <tr>\n",
       "      <th>OESTE</th>\n",
       "      <td>97492</td>\n",
       "    </tr>\n",
       "    <tr>\n",
       "      <th>TRIANGULO DO NORTE</th>\n",
       "      <td>83037</td>\n",
       "    </tr>\n",
       "    <tr>\n",
       "      <th>VALE DO ACO</th>\n",
       "      <td>70075</td>\n",
       "    </tr>\n",
       "    <tr>\n",
       "      <th>SUDESTE</th>\n",
       "      <td>56456</td>\n",
       "    </tr>\n",
       "    <tr>\n",
       "      <th>TRIANGULO DO SUL</th>\n",
       "      <td>52861</td>\n",
       "    </tr>\n",
       "    <tr>\n",
       "      <th>LESTE</th>\n",
       "      <td>47771</td>\n",
       "    </tr>\n",
       "    <tr>\n",
       "      <th>NORTE</th>\n",
       "      <td>43920</td>\n",
       "    </tr>\n",
       "    <tr>\n",
       "      <th>NORDESTE</th>\n",
       "      <td>38427</td>\n",
       "    </tr>\n",
       "    <tr>\n",
       "      <th>LESTE DO SUL</th>\n",
       "      <td>37510</td>\n",
       "    </tr>\n",
       "    <tr>\n",
       "      <th>CENTRO SUL</th>\n",
       "      <td>30693</td>\n",
       "    </tr>\n",
       "    <tr>\n",
       "      <th>NOROESTE</th>\n",
       "      <td>24784</td>\n",
       "    </tr>\n",
       "    <tr>\n",
       "      <th>JEQUITINHONHA</th>\n",
       "      <td>15886</td>\n",
       "    </tr>\n",
       "  </tbody>\n",
       "</table>\n",
       "</div>"
      ],
      "text/plain": [
       "                     Casos\n",
       "CENTRO              185346\n",
       "SUL                 177990\n",
       "OESTE                97492\n",
       "TRIANGULO DO NORTE   83037\n",
       "VALE DO ACO          70075\n",
       "SUDESTE              56456\n",
       "TRIANGULO DO SUL     52861\n",
       "LESTE                47771\n",
       "NORTE                43920\n",
       "NORDESTE             38427\n",
       "LESTE DO SUL         37510\n",
       "CENTRO SUL           30693\n",
       "NOROESTE             24784\n",
       "JEQUITINHONHA        15886"
      ]
     },
     "execution_count": 163,
     "metadata": {},
     "output_type": "execute_result"
    }
   ],
   "source": [
    "df_casos"
   ]
  },
  {
   "cell_type": "code",
   "execution_count": 164,
   "id": "dcc6d6b8",
   "metadata": {},
   "outputs": [
    {
     "data": {
      "text/html": [
       "<div>\n",
       "<style scoped>\n",
       "    .dataframe tbody tr th:only-of-type {\n",
       "        vertical-align: middle;\n",
       "    }\n",
       "\n",
       "    .dataframe tbody tr th {\n",
       "        vertical-align: top;\n",
       "    }\n",
       "\n",
       "    .dataframe thead th {\n",
       "        text-align: right;\n",
       "    }\n",
       "</style>\n",
       "<table border=\"1\" class=\"dataframe\">\n",
       "  <thead>\n",
       "    <tr style=\"text-align: right;\">\n",
       "      <th></th>\n",
       "      <th>index</th>\n",
       "      <th>MACRO</th>\n",
       "      <th>Obitos</th>\n",
       "      <th>Populacao</th>\n",
       "      <th>Obitos/Populacao</th>\n",
       "      <th>Casos</th>\n",
       "    </tr>\n",
       "  </thead>\n",
       "  <tbody>\n",
       "    <tr>\n",
       "      <th>0</th>\n",
       "      <td>0</td>\n",
       "      <td>CENTRO</td>\n",
       "      <td>14974</td>\n",
       "      <td>6727252</td>\n",
       "      <td>0.002226</td>\n",
       "      <td>NaN</td>\n",
       "    </tr>\n",
       "    <tr>\n",
       "      <th>1</th>\n",
       "      <td>1</td>\n",
       "      <td>CENTRO SUL</td>\n",
       "      <td>1500</td>\n",
       "      <td>798326</td>\n",
       "      <td>0.001879</td>\n",
       "      <td>NaN</td>\n",
       "    </tr>\n",
       "    <tr>\n",
       "      <th>2</th>\n",
       "      <td>2</td>\n",
       "      <td>JEQUITINHONHA</td>\n",
       "      <td>400</td>\n",
       "      <td>408352</td>\n",
       "      <td>0.000980</td>\n",
       "      <td>NaN</td>\n",
       "    </tr>\n",
       "    <tr>\n",
       "      <th>3</th>\n",
       "      <td>3</td>\n",
       "      <td>LESTE</td>\n",
       "      <td>1959</td>\n",
       "      <td>693209</td>\n",
       "      <td>0.002826</td>\n",
       "      <td>NaN</td>\n",
       "    </tr>\n",
       "    <tr>\n",
       "      <th>4</th>\n",
       "      <td>4</td>\n",
       "      <td>LESTE DO SUL</td>\n",
       "      <td>1429</td>\n",
       "      <td>699214</td>\n",
       "      <td>0.002044</td>\n",
       "      <td>NaN</td>\n",
       "    </tr>\n",
       "    <tr>\n",
       "      <th>5</th>\n",
       "      <td>5</td>\n",
       "      <td>NORDESTE</td>\n",
       "      <td>1173</td>\n",
       "      <td>835346</td>\n",
       "      <td>0.001404</td>\n",
       "      <td>NaN</td>\n",
       "    </tr>\n",
       "    <tr>\n",
       "      <th>6</th>\n",
       "      <td>6</td>\n",
       "      <td>NOROESTE</td>\n",
       "      <td>1736</td>\n",
       "      <td>714167</td>\n",
       "      <td>0.002431</td>\n",
       "      <td>NaN</td>\n",
       "    </tr>\n",
       "    <tr>\n",
       "      <th>7</th>\n",
       "      <td>7</td>\n",
       "      <td>NORTE</td>\n",
       "      <td>2099</td>\n",
       "      <td>1700450</td>\n",
       "      <td>0.001234</td>\n",
       "      <td>NaN</td>\n",
       "    </tr>\n",
       "    <tr>\n",
       "      <th>8</th>\n",
       "      <td>8</td>\n",
       "      <td>OESTE</td>\n",
       "      <td>2819</td>\n",
       "      <td>1313161</td>\n",
       "      <td>0.002147</td>\n",
       "      <td>NaN</td>\n",
       "    </tr>\n",
       "    <tr>\n",
       "      <th>9</th>\n",
       "      <td>9</td>\n",
       "      <td>SUDESTE</td>\n",
       "      <td>4755</td>\n",
       "      <td>1693470</td>\n",
       "      <td>0.002808</td>\n",
       "      <td>NaN</td>\n",
       "    </tr>\n",
       "    <tr>\n",
       "      <th>10</th>\n",
       "      <td>10</td>\n",
       "      <td>SUL</td>\n",
       "      <td>6967</td>\n",
       "      <td>2842451</td>\n",
       "      <td>0.002451</td>\n",
       "      <td>NaN</td>\n",
       "    </tr>\n",
       "    <tr>\n",
       "      <th>11</th>\n",
       "      <td>11</td>\n",
       "      <td>TRIANGULO DO NORTE</td>\n",
       "      <td>4884</td>\n",
       "      <td>1327105</td>\n",
       "      <td>0.003680</td>\n",
       "      <td>NaN</td>\n",
       "    </tr>\n",
       "    <tr>\n",
       "      <th>12</th>\n",
       "      <td>12</td>\n",
       "      <td>TRIANGULO DO SUL</td>\n",
       "      <td>2555</td>\n",
       "      <td>806172</td>\n",
       "      <td>0.003169</td>\n",
       "      <td>NaN</td>\n",
       "    </tr>\n",
       "    <tr>\n",
       "      <th>13</th>\n",
       "      <td>13</td>\n",
       "      <td>VALE DO ACO</td>\n",
       "      <td>2071</td>\n",
       "      <td>853248</td>\n",
       "      <td>0.002427</td>\n",
       "      <td>NaN</td>\n",
       "    </tr>\n",
       "  </tbody>\n",
       "</table>\n",
       "</div>"
      ],
      "text/plain": [
       "    index               MACRO  Obitos  Populacao  Obitos/Populacao  Casos\n",
       "0       0              CENTRO   14974    6727252          0.002226    NaN\n",
       "1       1          CENTRO SUL    1500     798326          0.001879    NaN\n",
       "2       2       JEQUITINHONHA     400     408352          0.000980    NaN\n",
       "3       3               LESTE    1959     693209          0.002826    NaN\n",
       "4       4        LESTE DO SUL    1429     699214          0.002044    NaN\n",
       "5       5            NORDESTE    1173     835346          0.001404    NaN\n",
       "6       6            NOROESTE    1736     714167          0.002431    NaN\n",
       "7       7               NORTE    2099    1700450          0.001234    NaN\n",
       "8       8               OESTE    2819    1313161          0.002147    NaN\n",
       "9       9             SUDESTE    4755    1693470          0.002808    NaN\n",
       "10     10                 SUL    6967    2842451          0.002451    NaN\n",
       "11     11  TRIANGULO DO NORTE    4884    1327105          0.003680    NaN\n",
       "12     12    TRIANGULO DO SUL    2555     806172          0.003169    NaN\n",
       "13     13         VALE DO ACO    2071     853248          0.002427    NaN"
      ]
     },
     "execution_count": 164,
     "metadata": {},
     "output_type": "execute_result"
    }
   ],
   "source": [
    "dados_macro_obtcasos"
   ]
  },
  {
   "cell_type": "markdown",
   "id": "b40a73a6",
   "metadata": {},
   "source": [
    "## Encerramento da Conexão com o Banco de dados"
   ]
  },
  {
   "cell_type": "code",
   "execution_count": null,
   "id": "ed7cda7f",
   "metadata": {},
   "outputs": [],
   "source": [
    "conec_bd.close()"
   ]
  }
 ],
 "metadata": {
  "kernelspec": {
   "display_name": "Python 3",
   "language": "python",
   "name": "python3"
  },
  "language_info": {
   "codemirror_mode": {
    "name": "ipython",
    "version": 3
   },
   "file_extension": ".py",
   "mimetype": "text/x-python",
   "name": "python",
   "nbconvert_exporter": "python",
   "pygments_lexer": "ipython3",
   "version": "3.8.8"
  }
 },
 "nbformat": 4,
 "nbformat_minor": 5
}
