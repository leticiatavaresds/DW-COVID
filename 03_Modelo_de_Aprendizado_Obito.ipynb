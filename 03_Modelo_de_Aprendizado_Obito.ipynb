{
 "cells": [
  {
   "cell_type": "markdown",
   "id": "67812041",
   "metadata": {},
   "source": [
    "## Importação de Bibliotecas"
   ]
  },
  {
   "cell_type": "code",
   "execution_count": 1,
   "id": "3ac30719",
   "metadata": {},
   "outputs": [],
   "source": [
    "# Python versão 3.8.8\n",
    "# Windows 10\n",
    "\n",
    "# biblioteca para interação com o sistema\n",
    "import os\n",
    "import shutil\n",
    "\n",
    "# biblioteca para manipulação de dados\n",
    "import pandas as pd # versão 1.3.2\n",
    "import numpy as np\n",
    "\n",
    "# biblioteca para manipulação de banco de dados sqlite\n",
    "import sqlite3 # versão 2.6.0\n",
    "from sqlite3 import Error\n",
    "\n",
    "import plotly.express as px\n",
    "import seaborn as sns\n",
    "\n",
    "import warnings\n",
    "warnings.filterwarnings('ignore', category=UserWarning, module='openpyxl')\n",
    "\n",
    "import matplotlib.pyplot as plt"
   ]
  },
  {
   "cell_type": "code",
   "execution_count": 2,
   "id": "34595bd2",
   "metadata": {},
   "outputs": [],
   "source": [
    "from matplotlib import rcParams\n",
    "%matplotlib inline\n",
    "\n",
    "from sklearn.tree import DecisionTreeClassifier # Importa o classificador de árvore de decisão\n",
    "from sklearn import metrics #Importa métrica para calcular acurácia - módulo do scikit-learn\n",
    "from sklearn.model_selection import train_test_split\n",
    "from sklearn.tree import export_graphviz\n",
    "from sklearn.model_selection import KFold  \n",
    "from IPython.display import Image  "
   ]
  },
  {
   "cell_type": "code",
   "execution_count": 3,
   "id": "25622d49",
   "metadata": {},
   "outputs": [],
   "source": [
    "from sklearn.datasets import make_classification\n",
    "from sklearn.metrics import plot_confusion_matrix\n",
    "from sklearn.svm import SVC"
   ]
  },
  {
   "cell_type": "code",
   "execution_count": 4,
   "id": "93a84c6d",
   "metadata": {},
   "outputs": [],
   "source": [
    "from sklearn.metrics import classification_report"
   ]
  },
  {
   "cell_type": "markdown",
   "id": "21551a61",
   "metadata": {},
   "source": [
    "## Variáveis Globais"
   ]
  },
  {
   "cell_type": "code",
   "execution_count": 5,
   "id": "4a6b3201",
   "metadata": {},
   "outputs": [],
   "source": [
    "path_atual = os.path.dirname(os.path.realpath('__file__')) + \"\\\\\" # diretório onde se encontra o script\n",
    "nome_bd = \"COVID_MG_DW.sqlite\""
   ]
  },
  {
   "cell_type": "markdown",
   "id": "07c3291b",
   "metadata": {},
   "source": [
    "## Conexão Banco de Dados"
   ]
  },
  {
   "cell_type": "code",
   "execution_count": 6,
   "id": "7a48eecb",
   "metadata": {},
   "outputs": [],
   "source": [
    "def nova_conexao(path, nome_bd):\n",
    "\n",
    "    conec_bd = None\n",
    "    try:\n",
    "        conec_bd = sqlite3.connect(path + nome_bd)\n",
    "\n",
    "    except Error as erro:\n",
    "        print(erro)\n",
    "        return 0\n",
    "    \n",
    "    finally:\n",
    "        if conec_bd:\n",
    "            conec_bd.close()\n",
    "    return 1"
   ]
  },
  {
   "cell_type": "code",
   "execution_count": 7,
   "id": "5e78583b",
   "metadata": {},
   "outputs": [
    {
     "name": "stdout",
     "output_type": "stream",
     "text": [
      "Conexão ao banco 'COVID_MG_DW.sqlite' criada com sucesso.\n"
     ]
    }
   ],
   "source": [
    "if (nova_conexao(path_atual,  nome_bd)):\n",
    "    conec_bd = sqlite3.connect(path_atual + nome_bd)\n",
    "    cursor = conec_bd.cursor()\n",
    "    print(\"Conexão ao banco '{}' criada com sucesso.\".format(nome_bd))\n",
    "    conec_bd.commit()"
   ]
  },
  {
   "cell_type": "markdown",
   "id": "9068083b",
   "metadata": {},
   "source": [
    "## Leitura de Dados"
   ]
  },
  {
   "cell_type": "code",
   "execution_count": 8,
   "id": "17efb2bb",
   "metadata": {},
   "outputs": [],
   "source": [
    "dim_municipio = pd.read_sql_query(\"SELECT * FROM Dim_Municipio\", conec_bd)\n",
    "dim_tempo = pd.read_sql_query(\"SELECT * FROM Dim_Tempo\", conec_bd)\n",
    "dim_paciente = pd.read_sql_query(\"SELECT * FROM Dim_Paciente\", conec_bd)\n",
    "dim_status_tratamento = pd.read_sql_query(\"SELECT * FROM Dim_Status_Tratamento\", conec_bd)\n",
    "fato_internacao = pd.read_sql_query(\"SELECT * FROM Fato_Internacao\", conec_bd)"
   ]
  },
  {
   "cell_type": "code",
   "execution_count": 9,
   "id": "cb095df7",
   "metadata": {},
   "outputs": [],
   "source": [
    "dim_tempo.ID_TEMPO = pd.to_datetime(dim_tempo.ID_TEMPO)\n",
    "fato_internacao.ID_TEMPO = pd.to_datetime(fato_internacao.ID_TEMPO)\n",
    "dim_tempo[\"Ano\"] = dim_tempo.ID_TEMPO.dt.year\n",
    "dim_tempo[\"Mes\"] = dim_tempo.ID_TEMPO.dt.month"
   ]
  },
  {
   "cell_type": "code",
   "execution_count": 10,
   "id": "c20bdc3a",
   "metadata": {},
   "outputs": [],
   "source": [
    "base_dados =  pd.merge(fato_internacao, dim_paciente, how=\"inner\", on=[\"ID_PESSOA\"])\n",
    "base_dados =  pd.merge(base_dados, dim_status_tratamento, how=\"inner\", on=[\"ID_PESSOA\"])\n",
    "base_dados =  pd.merge(base_dados, dim_municipio, how=\"inner\", on=[\"ID_MUNICIPIO\"])\n",
    "base_dados =  pd.merge(base_dados, dim_tempo, how=\"inner\", on=[\"ID_TEMPO\"])"
   ]
  },
  {
   "cell_type": "code",
   "execution_count": 11,
   "id": "4fe3e68e",
   "metadata": {},
   "outputs": [],
   "source": [
    "base_dados = base_dados.sort_values(by = \"ID_TEMPO\")"
   ]
  },
  {
   "cell_type": "markdown",
   "id": "f4da0728",
   "metadata": {},
   "source": [
    "## Funções"
   ]
  },
  {
   "cell_type": "code",
   "execution_count": 12,
   "id": "ea44f913",
   "metadata": {},
   "outputs": [],
   "source": [
    "# Função para gerar a árvore\n",
    "def geraArvore(clf, Xone_hot_data, nome):\n",
    "  \n",
    "    feature_names = Xone_hot_data.columns # precisa receber o nome das colunas do dataset completo que nesse caso é o \"Xone_hot_data\"\n",
    "    dot_data = StringIO()\n",
    "    export_graphviz(clf, out_file=dot_data,  \n",
    "                  filled=True, rounded=True,\n",
    "                  special_characters=True, feature_names = feature_names, class_names=['0', '1'])\n",
    "    graph = pydotplus.graph_from_dot_data(dot_data.getvalue())  \n",
    "    graph.write_png('arvore' + nome + '.png')\n",
    "    arvore = graph.create_png()\n",
    "\n",
    "    return arvore  # retorna a arvore com uma imagem png"
   ]
  },
  {
   "cell_type": "code",
   "execution_count": 13,
   "id": "05722b7e",
   "metadata": {},
   "outputs": [],
   "source": [
    "\n",
    "def arvoreDecisao(Xone_hot_data,tamanho_train, criterio = \"None\", min_samples_split = 2, max_depth = None, shuffleAtiv = False):\n",
    "  \n",
    "    global X_treino, X_teste, Y_treino, Y_teste\n",
    "    \n",
    "    X_treino, X_teste, Y_treino, Y_teste = train_test_split(Xone_hot_data, y,\n",
    "                                                        train_size = tamanho_train, shuffle=shuffleAtiv)\n",
    "\n",
    "    # se o tamanho de treinamento for 1, siginifica que todos os dados serão utilizados para treinamento\n",
    "    if (tamanho_train == 1):\n",
    "\n",
    "        X_treino, X_teste, Y_treino, Y_teste = train_test_split(Xone_hot_data, y,\n",
    "                                                            test_size = 0.2, shuffle=shuffleAtiv)\n",
    "\n",
    "        X_treino = Xone_hot_data # o treimento recebe todo o dataset\n",
    "        Y_treino = y\n",
    "\n",
    "\n",
    "    if (criterio):\n",
    "        # Criação do classificador de árvore de decisão utilizando entropy ou gini\n",
    "        clf = DecisionTreeClassifier(criterion = criterio, min_samples_split = min_samples_split, max_depth = max_depth)\n",
    "\n",
    "    else:\n",
    "        # Se nenhum parâmetro for passado, utiliza-se o default que é gini\n",
    "        clf = DecisionTreeClassifier(min_samples_split, max_depth)\n",
    "\n",
    "    # Método para construir o classificador a partir do conjunto de treinamento\n",
    "    clf1 = clf.fit(X_treino, Y_treino)\n",
    "\n",
    "    return clf1\n",
    "  "
   ]
  },
  {
   "cell_type": "markdown",
   "id": "e8387689",
   "metadata": {},
   "source": [
    "## Modelo I"
   ]
  },
  {
   "cell_type": "code",
   "execution_count": 14,
   "id": "88a15d59",
   "metadata": {},
   "outputs": [
    {
     "data": {
      "text/html": [
       "<div>\n",
       "<style scoped>\n",
       "    .dataframe tbody tr th:only-of-type {\n",
       "        vertical-align: middle;\n",
       "    }\n",
       "\n",
       "    .dataframe tbody tr th {\n",
       "        vertical-align: top;\n",
       "    }\n",
       "\n",
       "    .dataframe thead th {\n",
       "        text-align: right;\n",
       "    }\n",
       "</style>\n",
       "<table border=\"1\" class=\"dataframe\">\n",
       "  <thead>\n",
       "    <tr style=\"text-align: right;\">\n",
       "      <th></th>\n",
       "      <th>ID_PESSOA</th>\n",
       "      <th>ID_MUNICIPIO</th>\n",
       "      <th>ID_TEMPO</th>\n",
       "      <th>GENERO</th>\n",
       "      <th>IDADE</th>\n",
       "      <th>FAIXA_ETARIA</th>\n",
       "      <th>DIAS_PRA_NOTIFICACAO</th>\n",
       "      <th>EVOLUCAO</th>\n",
       "      <th>INTERNACAO</th>\n",
       "      <th>UTI</th>\n",
       "      <th>MUNICIPIO_RESIDENCIA</th>\n",
       "      <th>MICRO</th>\n",
       "      <th>URS</th>\n",
       "      <th>MACRO</th>\n",
       "      <th>POPULAÇÃO_ESTIMADA</th>\n",
       "      <th>PIB_PER_CAPITA</th>\n",
       "      <th>Dia</th>\n",
       "      <th>Mes</th>\n",
       "      <th>Ano</th>\n",
       "    </tr>\n",
       "  </thead>\n",
       "  <tbody>\n",
       "    <tr>\n",
       "      <th>964809</th>\n",
       "      <td>31803</td>\n",
       "      <td>311860</td>\n",
       "      <td>2020-01-01</td>\n",
       "      <td>FEMININO</td>\n",
       "      <td>58</td>\n",
       "      <td>50 A 59 ANOS</td>\n",
       "      <td>0</td>\n",
       "      <td>RECUPERADO</td>\n",
       "      <td>SIM</td>\n",
       "      <td>NAO</td>\n",
       "      <td>CONTAGEM</td>\n",
       "      <td>CONTAGEM</td>\n",
       "      <td>BELO HORIZONTE</td>\n",
       "      <td>CENTRO</td>\n",
       "      <td>673849</td>\n",
       "      <td>42077.02</td>\n",
       "      <td>1</td>\n",
       "      <td>1</td>\n",
       "      <td>2020</td>\n",
       "    </tr>\n",
       "    <tr>\n",
       "      <th>964850</th>\n",
       "      <td>379672</td>\n",
       "      <td>315700</td>\n",
       "      <td>2020-01-04</td>\n",
       "      <td>MASCULINO</td>\n",
       "      <td>0</td>\n",
       "      <td>&lt;1ANO</td>\n",
       "      <td>0</td>\n",
       "      <td>RECUPERADO</td>\n",
       "      <td>NAO</td>\n",
       "      <td>NAO</td>\n",
       "      <td>SALINAS</td>\n",
       "      <td>SALINAS</td>\n",
       "      <td>MONTES CLAROS</td>\n",
       "      <td>NORTE</td>\n",
       "      <td>41864</td>\n",
       "      <td>13184.48</td>\n",
       "      <td>4</td>\n",
       "      <td>1</td>\n",
       "      <td>2020</td>\n",
       "    </tr>\n",
       "    <tr>\n",
       "      <th>964849</th>\n",
       "      <td>352192</td>\n",
       "      <td>314390</td>\n",
       "      <td>2020-01-04</td>\n",
       "      <td>FEMININO</td>\n",
       "      <td>32</td>\n",
       "      <td>30 A 39 ANOS</td>\n",
       "      <td>0</td>\n",
       "      <td>RECUPERADO</td>\n",
       "      <td>NAO</td>\n",
       "      <td>NAO</td>\n",
       "      <td>MURIAE</td>\n",
       "      <td>MURIAE</td>\n",
       "      <td>UBA</td>\n",
       "      <td>SUDESTE</td>\n",
       "      <td>109997</td>\n",
       "      <td>19884.40</td>\n",
       "      <td>4</td>\n",
       "      <td>1</td>\n",
       "      <td>2020</td>\n",
       "    </tr>\n",
       "  </tbody>\n",
       "</table>\n",
       "</div>"
      ],
      "text/plain": [
       "        ID_PESSOA  ID_MUNICIPIO   ID_TEMPO     GENERO  IDADE  FAIXA_ETARIA  \\\n",
       "964809      31803        311860 2020-01-01   FEMININO     58  50 A 59 ANOS   \n",
       "964850     379672        315700 2020-01-04  MASCULINO      0         <1ANO   \n",
       "964849     352192        314390 2020-01-04   FEMININO     32  30 A 39 ANOS   \n",
       "\n",
       "        DIAS_PRA_NOTIFICACAO    EVOLUCAO INTERNACAO  UTI MUNICIPIO_RESIDENCIA  \\\n",
       "964809                     0  RECUPERADO        SIM  NAO             CONTAGEM   \n",
       "964850                     0  RECUPERADO        NAO  NAO              SALINAS   \n",
       "964849                     0  RECUPERADO        NAO  NAO               MURIAE   \n",
       "\n",
       "           MICRO             URS    MACRO  POPULAÇÃO_ESTIMADA  PIB_PER_CAPITA  \\\n",
       "964809  CONTAGEM  BELO HORIZONTE   CENTRO              673849        42077.02   \n",
       "964850   SALINAS   MONTES CLAROS    NORTE               41864        13184.48   \n",
       "964849    MURIAE             UBA  SUDESTE              109997        19884.40   \n",
       "\n",
       "        Dia  Mes   Ano  \n",
       "964809    1    1  2020  \n",
       "964850    4    1  2020  \n",
       "964849    4    1  2020  "
      ]
     },
     "execution_count": 14,
     "metadata": {},
     "output_type": "execute_result"
    }
   ],
   "source": [
    "base_dados.head(3)"
   ]
  },
  {
   "cell_type": "code",
   "execution_count": 15,
   "id": "3d87edf4",
   "metadata": {},
   "outputs": [],
   "source": [
    "dataset = base_dados.copy()"
   ]
  },
  {
   "cell_type": "code",
   "execution_count": 16,
   "id": "8bc7ce0f",
   "metadata": {},
   "outputs": [],
   "source": [
    "dados_macro = dataset.drop_duplicates(subset = \"MUNICIPIO_RESIDENCIA\").reset_index()\n",
    "dados_populacao_macro = dados_macro.groupby([\"MACRO\"])[\"POPULAÇÃO_ESTIMADA\"].sum().to_frame(\"POPULACAO_MACRO\")\n",
    "dados_pib_macro = dados_macro.groupby([\"MACRO\"])[\"PIB_PER_CAPITA\"].mean().to_frame(\"PIB_PER_CAPITA_MACRO\")\n",
    "\n",
    "dados_macro = dados_populacao_macro.join(dados_pib_macro)\n",
    "dados_macro = dados_macro.reset_index()"
   ]
  },
  {
   "cell_type": "code",
   "execution_count": 17,
   "id": "a50fff01",
   "metadata": {},
   "outputs": [],
   "source": [
    "dataset = pd.merge(dataset, dados_macro, how=\"left\", on=[\"MACRO\"])"
   ]
  },
  {
   "cell_type": "code",
   "execution_count": 18,
   "id": "a8dec929",
   "metadata": {},
   "outputs": [],
   "source": [
    "# # dataset.drop(['IDADE'], axis=1, inplace=True)\n",
    "# dataset.drop(['ID_PESSOA'],axis=1,  inplace=True)\n",
    "# dataset.drop(['ID_MUNICIPIO'],axis=1,  inplace=True)\n",
    "# dataset.drop(['ID_TEMPO'],axis=1,  inplace=True)\n",
    "# dataset.drop(['MICRO'],axis=1,  inplace=True)\n",
    "# dataset.drop(['URS'],axis=1,  inplace=True)\n",
    "# dataset.drop(['MUNICIPIO_RESIDENCIA'],axis=1,  inplace=True)\n",
    "# # dataset.drop(['MACRO'],axis=1,  inplace=True)\n",
    "# dataset.drop(['POPULAÇÃO_ESTIMADA'],axis=1,  inplace=True)\n",
    "# dataset.drop(['PIB_PER_CAPITA'],axis=1,  inplace=True)\n",
    "# dataset.drop(['Dia'],axis=1,  inplace=True)"
   ]
  },
  {
   "cell_type": "code",
   "execution_count": 19,
   "id": "07ccfc85",
   "metadata": {},
   "outputs": [],
   "source": [
    "dataset.INTERNACAO = np.where(dataset.INTERNACAO == \"SIM\", 1, 0)\n",
    "dataset.UTI = np.where(dataset.UTI == \"SIM\", 1, 0)\n",
    "dataset.EVOLUCAO = np.where(dataset.EVOLUCAO == \"OBITO\", 1, 0)"
   ]
  },
  {
   "cell_type": "code",
   "execution_count": 20,
   "id": "95c5be32",
   "metadata": {},
   "outputs": [],
   "source": [
    "dataset = dataset.rename(columns = {\"EVOLUCAO\": \"OBITO\"})"
   ]
  },
  {
   "cell_type": "code",
   "execution_count": 21,
   "id": "a1513d77",
   "metadata": {},
   "outputs": [
    {
     "data": {
      "text/html": [
       "<div>\n",
       "<style scoped>\n",
       "    .dataframe tbody tr th:only-of-type {\n",
       "        vertical-align: middle;\n",
       "    }\n",
       "\n",
       "    .dataframe tbody tr th {\n",
       "        vertical-align: top;\n",
       "    }\n",
       "\n",
       "    .dataframe thead th {\n",
       "        text-align: right;\n",
       "    }\n",
       "</style>\n",
       "<table border=\"1\" class=\"dataframe\">\n",
       "  <thead>\n",
       "    <tr style=\"text-align: right;\">\n",
       "      <th></th>\n",
       "      <th>ID_PESSOA</th>\n",
       "      <th>ID_MUNICIPIO</th>\n",
       "      <th>ID_TEMPO</th>\n",
       "      <th>GENERO</th>\n",
       "      <th>IDADE</th>\n",
       "      <th>FAIXA_ETARIA</th>\n",
       "      <th>DIAS_PRA_NOTIFICACAO</th>\n",
       "      <th>OBITO</th>\n",
       "      <th>INTERNACAO</th>\n",
       "      <th>UTI</th>\n",
       "      <th>...</th>\n",
       "      <th>MICRO</th>\n",
       "      <th>URS</th>\n",
       "      <th>MACRO</th>\n",
       "      <th>POPULAÇÃO_ESTIMADA</th>\n",
       "      <th>PIB_PER_CAPITA</th>\n",
       "      <th>Dia</th>\n",
       "      <th>Mes</th>\n",
       "      <th>Ano</th>\n",
       "      <th>POPULACAO_MACRO</th>\n",
       "      <th>PIB_PER_CAPITA_MACRO</th>\n",
       "    </tr>\n",
       "  </thead>\n",
       "  <tbody>\n",
       "    <tr>\n",
       "      <th>0</th>\n",
       "      <td>31803</td>\n",
       "      <td>311860</td>\n",
       "      <td>2020-01-01</td>\n",
       "      <td>FEMININO</td>\n",
       "      <td>58</td>\n",
       "      <td>50 A 59 ANOS</td>\n",
       "      <td>0</td>\n",
       "      <td>0</td>\n",
       "      <td>1</td>\n",
       "      <td>0</td>\n",
       "      <td>...</td>\n",
       "      <td>CONTAGEM</td>\n",
       "      <td>BELO HORIZONTE</td>\n",
       "      <td>CENTRO</td>\n",
       "      <td>673849</td>\n",
       "      <td>42077.02</td>\n",
       "      <td>1</td>\n",
       "      <td>1</td>\n",
       "      <td>2020</td>\n",
       "      <td>6727252</td>\n",
       "      <td>27503.078911</td>\n",
       "    </tr>\n",
       "    <tr>\n",
       "      <th>1</th>\n",
       "      <td>379672</td>\n",
       "      <td>315700</td>\n",
       "      <td>2020-01-04</td>\n",
       "      <td>MASCULINO</td>\n",
       "      <td>0</td>\n",
       "      <td>&lt;1ANO</td>\n",
       "      <td>0</td>\n",
       "      <td>0</td>\n",
       "      <td>0</td>\n",
       "      <td>0</td>\n",
       "      <td>...</td>\n",
       "      <td>SALINAS</td>\n",
       "      <td>MONTES CLAROS</td>\n",
       "      <td>NORTE</td>\n",
       "      <td>41864</td>\n",
       "      <td>13184.48</td>\n",
       "      <td>4</td>\n",
       "      <td>1</td>\n",
       "      <td>2020</td>\n",
       "      <td>1700450</td>\n",
       "      <td>10960.377326</td>\n",
       "    </tr>\n",
       "    <tr>\n",
       "      <th>2</th>\n",
       "      <td>352192</td>\n",
       "      <td>314390</td>\n",
       "      <td>2020-01-04</td>\n",
       "      <td>FEMININO</td>\n",
       "      <td>32</td>\n",
       "      <td>30 A 39 ANOS</td>\n",
       "      <td>0</td>\n",
       "      <td>0</td>\n",
       "      <td>0</td>\n",
       "      <td>0</td>\n",
       "      <td>...</td>\n",
       "      <td>MURIAE</td>\n",
       "      <td>UBA</td>\n",
       "      <td>SUDESTE</td>\n",
       "      <td>109997</td>\n",
       "      <td>19884.40</td>\n",
       "      <td>4</td>\n",
       "      <td>1</td>\n",
       "      <td>2020</td>\n",
       "      <td>1693470</td>\n",
       "      <td>15323.150000</td>\n",
       "    </tr>\n",
       "  </tbody>\n",
       "</table>\n",
       "<p>3 rows × 21 columns</p>\n",
       "</div>"
      ],
      "text/plain": [
       "   ID_PESSOA  ID_MUNICIPIO   ID_TEMPO     GENERO  IDADE  FAIXA_ETARIA  \\\n",
       "0      31803        311860 2020-01-01   FEMININO     58  50 A 59 ANOS   \n",
       "1     379672        315700 2020-01-04  MASCULINO      0         <1ANO   \n",
       "2     352192        314390 2020-01-04   FEMININO     32  30 A 39 ANOS   \n",
       "\n",
       "   DIAS_PRA_NOTIFICACAO  OBITO  INTERNACAO  UTI  ...     MICRO  \\\n",
       "0                     0      0           1    0  ...  CONTAGEM   \n",
       "1                     0      0           0    0  ...   SALINAS   \n",
       "2                     0      0           0    0  ...    MURIAE   \n",
       "\n",
       "              URS    MACRO POPULAÇÃO_ESTIMADA  PIB_PER_CAPITA  Dia  Mes   Ano  \\\n",
       "0  BELO HORIZONTE   CENTRO             673849        42077.02    1    1  2020   \n",
       "1   MONTES CLAROS    NORTE              41864        13184.48    4    1  2020   \n",
       "2             UBA  SUDESTE             109997        19884.40    4    1  2020   \n",
       "\n",
       "   POPULACAO_MACRO  PIB_PER_CAPITA_MACRO  \n",
       "0          6727252          27503.078911  \n",
       "1          1700450          10960.377326  \n",
       "2          1693470          15323.150000  \n",
       "\n",
       "[3 rows x 21 columns]"
      ]
     },
     "execution_count": 21,
     "metadata": {},
     "output_type": "execute_result"
    }
   ],
   "source": [
    "dataset.head(3)"
   ]
  },
  {
   "cell_type": "code",
   "execution_count": 22,
   "id": "0dad806e",
   "metadata": {},
   "outputs": [
    {
     "data": {
      "text/html": [
       "<div>\n",
       "<style scoped>\n",
       "    .dataframe tbody tr th:only-of-type {\n",
       "        vertical-align: middle;\n",
       "    }\n",
       "\n",
       "    .dataframe tbody tr th {\n",
       "        vertical-align: top;\n",
       "    }\n",
       "\n",
       "    .dataframe thead th {\n",
       "        text-align: right;\n",
       "    }\n",
       "</style>\n",
       "<table border=\"1\" class=\"dataframe\">\n",
       "  <thead>\n",
       "    <tr style=\"text-align: right;\">\n",
       "      <th></th>\n",
       "      <th>GENERO_FEMININO</th>\n",
       "      <th>GENERO_MASCULINO</th>\n",
       "    </tr>\n",
       "  </thead>\n",
       "  <tbody>\n",
       "    <tr>\n",
       "      <th>0</th>\n",
       "      <td>1</td>\n",
       "      <td>0</td>\n",
       "    </tr>\n",
       "    <tr>\n",
       "      <th>1</th>\n",
       "      <td>0</td>\n",
       "      <td>1</td>\n",
       "    </tr>\n",
       "    <tr>\n",
       "      <th>2</th>\n",
       "      <td>1</td>\n",
       "      <td>0</td>\n",
       "    </tr>\n",
       "  </tbody>\n",
       "</table>\n",
       "</div>"
      ],
      "text/plain": [
       "   GENERO_FEMININO  GENERO_MASCULINO\n",
       "0                1                 0\n",
       "1                0                 1\n",
       "2                1                 0"
      ]
     },
     "execution_count": 22,
     "metadata": {},
     "output_type": "execute_result"
    }
   ],
   "source": [
    "atributosNumer = ['DIAS_PRA_NOTIFICACAO','PIB_PER_CAPITA_MACRO','Dia','Mes','Ano','INTERNACAO','UTI', 'IDADE'] # atributos numéricos\n",
    "atributosCateg = ['GENERO'] # atributos categóricos\n",
    "\n",
    "dataset_dummies = pd.get_dummies(dataset[atributosCateg]) # subdividindo as colunas categóricas em numéricas\n",
    "\n",
    "dataset_dummies.head(3)"
   ]
  },
  {
   "cell_type": "code",
   "execution_count": 23,
   "id": "54cb96bc",
   "metadata": {},
   "outputs": [],
   "source": [
    "y = dataset.OBITO\n",
    "dataset_modelo = pd.concat([dataset_dummies, dataset[atributosNumer]], axis=1, join=\"inner\")"
   ]
  },
  {
   "cell_type": "code",
   "execution_count": 24,
   "id": "555473da",
   "metadata": {},
   "outputs": [],
   "source": [
    "clf =  arvoreDecisao(dataset_modelo, 0.9, criterio = \"entropy\", shuffleAtiv = False, max_depth = 6)"
   ]
  },
  {
   "cell_type": "code",
   "execution_count": 40,
   "id": "79467edc",
   "metadata": {},
   "outputs": [
    {
     "data": {
      "image/png": "[encoded data removed]",
      "text/plain": [
       "<Figure size 576x432 with 2 Axes>"
      ]
     },
     "metadata": {
      "needs_background": "light"
     },
     "output_type": "display_data"
    }
   ],
   "source": [
    "plot_confusion_matrix(clf,  X_teste, Y_teste, values_format = '.0f')  \n",
    "plt.show()\n",
    "plt.rcParams[\"figure.figsize\"] = (40,7)"
   ]
  },
  {
   "cell_type": "code",
   "execution_count": 26,
   "id": "24d68215",
   "metadata": {},
   "outputs": [],
   "source": [
    "Y_pred = clf.predict(X_teste)"
   ]
  },
  {
   "cell_type": "code",
   "execution_count": 27,
   "id": "a136b408",
   "metadata": {},
   "outputs": [
    {
     "name": "stdout",
     "output_type": "stream",
     "text": [
      "              precision    recall  f1-score   support\n",
      "\n",
      "           0       0.98      0.98      0.98     91645\n",
      "           1       0.63      0.53      0.58      4844\n",
      "\n",
      "    accuracy                           0.96     96489\n",
      "   macro avg       0.80      0.76      0.78     96489\n",
      "weighted avg       0.96      0.96      0.96     96489\n",
      "\n"
     ]
    }
   ],
   "source": [
    "print(classification_report(Y_teste, Y_pred))"
   ]
  },
  {
   "cell_type": "code",
   "execution_count": 28,
   "id": "ce3d23b9",
   "metadata": {},
   "outputs": [
    {
     "name": "stdout",
     "output_type": "stream",
     "text": [
      "A Acurácia do modelo é de: 0.9609074609540984\n"
     ]
    }
   ],
   "source": [
    "acuracia = metrics.accuracy_score(Y_teste, Y_pred)\n",
    "print(f\"A Acurácia do modelo é de: {acuracia}\")"
   ]
  },
  {
   "cell_type": "code",
   "execution_count": 29,
   "id": "1691245c",
   "metadata": {},
   "outputs": [
    {
     "name": "stdout",
     "output_type": "stream",
     "text": [
      "A Precisão do modelo é de: 0.6313081822635963\n"
     ]
    }
   ],
   "source": [
    "precisao = metrics.precision_score(Y_teste, Y_pred)\n",
    "print(f\"A Precisão do modelo é de: {precisao}\")"
   ]
  },
  {
   "cell_type": "code",
   "execution_count": 30,
   "id": "6e2f7a6a",
   "metadata": {},
   "outputs": [
    {
     "data": {
      "text/plain": [
       "<sklearn.metrics._plot.roc_curve.RocCurveDisplay at 0x1d4e01802e0>"
      ]
     },
     "execution_count": 30,
     "metadata": {},
     "output_type": "execute_result"
    },
    {
     "data": {
      "image/png": "[encoded data removed]",
      "text/plain": [
       "<Figure size 576x432 with 1 Axes>"
      ]
     },
     "metadata": {
      "needs_background": "light"
     },
     "output_type": "display_data"
    }
   ],
   "source": [
    "plt.rcParams[\"figure.figsize\"] = (8,6)\n",
    "metrics.plot_roc_curve(clf,  X_teste, Y_teste) "
   ]
  },
  {
   "cell_type": "markdown",
   "id": "3f1f07ca",
   "metadata": {},
   "source": [
    "## Modelo Floresta"
   ]
  },
  {
   "cell_type": "code",
   "execution_count": 41,
   "id": "c2138376",
   "metadata": {},
   "outputs": [],
   "source": [
    "from sklearn.ensemble import RandomForestClassifier"
   ]
  },
  {
   "cell_type": "code",
   "execution_count": 42,
   "id": "cd3f526a",
   "metadata": {},
   "outputs": [],
   "source": [
    "X_treino, X_teste, Y_treino, Y_teste = train_test_split(dataset_modelo, y,\n",
    "                                                        train_size = 0.9, shuffle = False)"
   ]
  },
  {
   "cell_type": "code",
   "execution_count": 43,
   "id": "f487827d",
   "metadata": {},
   "outputs": [
    {
     "data": {
      "text/plain": [
       "RandomForestClassifier(criterion='entropy', max_depth=6, n_estimators=10)"
      ]
     },
     "execution_count": 43,
     "metadata": {},
     "output_type": "execute_result"
    }
   ],
   "source": [
    "clf_rf = RandomForestClassifier(n_estimators=10, criterion = \"entropy\",  max_depth = 6)\n",
    "\n",
    "clf_rf.fit(X_treino, Y_treino)"
   ]
  },
  {
   "cell_type": "code",
   "execution_count": 44,
   "id": "d58650ae",
   "metadata": {},
   "outputs": [
    {
     "data": {
      "image/png": "[encoded data removed]",
      "text/plain": [
       "<Figure size 2880x504 with 2 Axes>"
      ]
     },
     "metadata": {
      "needs_background": "light"
     },
     "output_type": "display_data"
    }
   ],
   "source": [
    "plot_confusion_matrix(clf_rf,  X_teste, Y_teste, values_format = '.0f')  \n",
    "plt.show()\n",
    "plt.rcParams[\"figure.figsize\"] = (40,7)"
   ]
  },
  {
   "cell_type": "code",
   "execution_count": 45,
   "id": "38dcc8df",
   "metadata": {},
   "outputs": [],
   "source": [
    "Y_pred_rf = clf_rf.predict(X_teste)"
   ]
  },
  {
   "cell_type": "code",
   "execution_count": 46,
   "id": "71321dc6",
   "metadata": {},
   "outputs": [
    {
     "name": "stdout",
     "output_type": "stream",
     "text": [
      "              precision    recall  f1-score   support\n",
      "\n",
      "           0       0.97      0.99      0.98     91645\n",
      "           1       0.65      0.48      0.55      4844\n",
      "\n",
      "    accuracy                           0.96     96489\n",
      "   macro avg       0.81      0.73      0.77     96489\n",
      "weighted avg       0.96      0.96      0.96     96489\n",
      "\n"
     ]
    }
   ],
   "source": [
    "print(classification_report(Y_teste, Y_pred_rf))"
   ]
  },
  {
   "cell_type": "code",
   "execution_count": 47,
   "id": "ca25fff3",
   "metadata": {},
   "outputs": [
    {
     "name": "stdout",
     "output_type": "stream",
     "text": [
      "A Acurácia do modelo é de: 0.9607830944459991\n"
     ]
    }
   ],
   "source": [
    "acuracia = metrics.accuracy_score(Y_teste, Y_pred_rf)\n",
    "print(f\"A Acurácia do modelo é de: {acuracia}\")"
   ]
  },
  {
   "cell_type": "code",
   "execution_count": 48,
   "id": "592270d1",
   "metadata": {},
   "outputs": [
    {
     "name": "stdout",
     "output_type": "stream",
     "text": [
      "A Precisão do modelo é de: 0.6468957871396895\n"
     ]
    }
   ],
   "source": [
    "precisao = metrics.precision_score(Y_teste, Y_pred_rf)\n",
    "print(f\"A Precisão do modelo é de: {precisao}\")"
   ]
  },
  {
   "cell_type": "code",
   "execution_count": 49,
   "id": "6281c2be",
   "metadata": {},
   "outputs": [
    {
     "data": {
      "text/plain": [
       "<sklearn.metrics._plot.roc_curve.RocCurveDisplay at 0x1d4d22ea670>"
      ]
     },
     "execution_count": 49,
     "metadata": {},
     "output_type": "execute_result"
    },
    {
     "data": {
      "image/png": "[encoded data removed]",
      "text/plain": [
       "<Figure size 576x432 with 1 Axes>"
      ]
     },
     "metadata": {
      "needs_background": "light"
     },
     "output_type": "display_data"
    }
   ],
   "source": [
    "plt.rcParams[\"figure.figsize\"] = (8,6)\n",
    "metrics.plot_roc_curve(clf_rf,  X_teste, Y_teste) "
   ]
  }
 ],
 "metadata": {
  "kernelspec": {
   "display_name": "Python 3",
   "language": "python",
   "name": "python3"
  },
  "language_info": {
   "codemirror_mode": {
    "name": "ipython",
    "version": 3
   },
   "file_extension": ".py",
   "mimetype": "text/x-python",
   "name": "python",
   "nbconvert_exporter": "python",
   "pygments_lexer": "ipython3",
   "version": "3.8.8"
  }
 },
 "nbformat": 4,
 "nbformat_minor": 5
}
