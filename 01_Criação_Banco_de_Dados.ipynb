{
 "cells": [
  {
   "cell_type": "markdown",
   "id": "c1daab3f",
   "metadata": {},
   "source": [
    "# Importação de Bibliotecas"
   ]
  },
  {
   "cell_type": "code",
   "execution_count": 1,
   "id": "671e1820",
   "metadata": {},
   "outputs": [],
   "source": [
    "# Python versão 3.8.8\n",
    "# Windows 10\n",
    "\n",
    "# biblioteca para interação com o sistema\n",
    "import os\n",
    "import shutil\n",
    "\n",
    "# biblioteca para manipulação de dados\n",
    "import pandas as pd # versão 1.3.2\n",
    "import numpy as np\n",
    "\n",
    "# biblioteca para manipulação de banco de dados sqlite\n",
    "import sqlite3 # versão 2.6.0\n",
    "from sqlite3 import Error\n",
    "\n",
    "import warnings\n",
    "warnings.filterwarnings('ignore', category=UserWarning, module='openpyxl')\n",
    "\n",
    "from zipfile import ZipFile"
   ]
  },
  {
   "cell_type": "markdown",
   "id": "5bf33ad3",
   "metadata": {},
   "source": [
    "## Variáveis Globais"
   ]
  },
  {
   "cell_type": "code",
   "execution_count": 2,
   "id": "82481f1d",
   "metadata": {},
   "outputs": [],
   "source": [
    "path_atual = os.path.dirname(os.path.realpath('__file__')) + \"\\\\\" # diretório onde se encontra o script\n",
    "path_dados = path_atual + \"Microdados_Covid\\\\\"\n",
    "# nome_bd_sp = \"COVID_SP_DW.sqlite\"\n",
    "nome_bd_mg = \"COVID_MG_DW.sqlite\""
   ]
  },
  {
   "cell_type": "markdown",
   "id": "b38cbb36",
   "metadata": {},
   "source": [
    "# Leitura de Dados"
   ]
  },
  {
   "cell_type": "code",
   "execution_count": 3,
   "id": "e1b11b40",
   "metadata": {},
   "outputs": [],
   "source": [
    "ibge_populacao = pd.read_excel(path_dados + \"Estimativa_Populacao_IBGE.xls\", sheet_name = \"Municípios\", \n",
    "                               skiprows=1, skipfooter = 22)"
   ]
  },
  {
   "cell_type": "code",
   "execution_count": 4,
   "id": "64662d6a",
   "metadata": {},
   "outputs": [],
   "source": [
    "zip_casos = ZipFile(path_dados + \"base_de_dados_2010_2018_xls.zip\")\n",
    "\n",
    "arquivo = 'PIB dos Municípios - base de dados 2010-2018.xls'\n",
    "ibge_pib = pd.read_excel(zip_casos.open(arquivo), usecols = \"A,E,G,AN\", skiprows = list(np.arange(1, 44546)))"
   ]
  },
  {
   "cell_type": "code",
   "execution_count": 5,
   "id": "68123641",
   "metadata": {
    "run_control": {
     "marked": false
    }
   },
   "outputs": [],
   "source": [
    "data_sistema = pd.read_csv(path_dados + \"CSV_Sistemas.zip\", sep = \";\", low_memory=False)\n",
    "\n",
    "zip_casos = ZipFile(path_dados + \"CSV_Laboratorios.zip\")\n",
    "\n",
    "arquivo = 'CSV_Laboratorios_1.csv'\n",
    "data_laboratorios_1 = pd.read_csv(zip_casos.open(arquivo), sep=';', low_memory=False)\n",
    "\n",
    "arquivo = 'CSV_Laboratorios_2.csv'\n",
    "data_laboratorios_2 = pd.read_csv(zip_casos.open(arquivo), sep=';', low_memory=False)\n",
    "\n",
    "data_casos_mg = pd.concat([data_sistema, data_laboratorios_1, data_laboratorios_2]).reset_index(drop = True)"
   ]
  },
  {
   "cell_type": "markdown",
   "id": "82f85c9d",
   "metadata": {},
   "source": [
    "# Funções"
   ]
  },
  {
   "cell_type": "markdown",
   "id": "fee57469",
   "metadata": {},
   "source": [
    "### Função para criar uma nova conexão ao Banco de Dados"
   ]
  },
  {
   "cell_type": "code",
   "execution_count": 6,
   "id": "95adbe5c",
   "metadata": {},
   "outputs": [],
   "source": [
    "def nova_conexao(path, nome_bd):\n",
    "\n",
    "    conec_bd = None\n",
    "    try:\n",
    "        conec_bd = sqlite3.connect(path + nome_bd)\n",
    "\n",
    "    except Error as erro:\n",
    "        print(erro)\n",
    "        return 0\n",
    "    \n",
    "    finally:\n",
    "        if conec_bd:\n",
    "            conec_bd.close()\n",
    "    return 1"
   ]
  },
  {
   "cell_type": "markdown",
   "id": "a3310c69",
   "metadata": {},
   "source": [
    "### Funções inserir uma tabela no Banco de Dados a partir de um DataFrame"
   ]
  },
  {
   "cell_type": "code",
   "execution_count": 7,
   "id": "39268eb3",
   "metadata": {},
   "outputs": [],
   "source": [
    "def verifica_tabela_existe(cursor, nome_tabela):\n",
    "    \n",
    "    cursor.execute(''' SELECT name FROM sqlite_master WHERE type='table' AND name='{}' '''.format(nome_tabela))\n",
    "    \n",
    "    if cursor.fetchone():\n",
    "        return 1\n",
    "    else:\n",
    "        return 0"
   ]
  },
  {
   "cell_type": "code",
   "execution_count": 8,
   "id": "a917f0e5",
   "metadata": {},
   "outputs": [],
   "source": [
    "def coverte_tipo_sqlite(string_tipo):  \n",
    "        \n",
    "    if string_tipo in [\"int32\", \"int64\", \"bool\"]:\n",
    "            tipo_sql = \"integer\"\n",
    "            \n",
    "    elif string_tipo == \"float64\":\n",
    "            tipo_sql = \"real\"           \n",
    "    else:\n",
    "        tipo_sql = \"text\"\n",
    "    \n",
    "    return tipo_sql\n",
    "    "
   ]
  },
  {
   "cell_type": "code",
   "execution_count": 9,
   "id": "964e61b4",
   "metadata": {},
   "outputs": [],
   "source": [
    "def insere_tabelas_banco(data, cursor, nome_tabela):\n",
    "\n",
    "    tabela_existe = verifica_tabela_existe(cursor, nome_tabela)\n",
    "\n",
    "    if not tabela_existe:\n",
    "\n",
    "\n",
    "        # Transforma o nome da coluna seguido por seu tipo em apenas uma string para cada coluna\n",
    "        # Logo após concatena essas strings utilizando a vírgula como separador\n",
    "        lista_colunas = list(data.columns)\n",
    "        \n",
    "        novas_colunas = []\n",
    "        for coluna in lista_colunas:\n",
    "            coluna = coluna + \" \" + coverte_tipo_sqlite(str(data[coluna].dtype)) \n",
    "            novas_colunas.append(coluna)\n",
    "\n",
    "        nomes_colunas = \", \".join(novas_colunas)         \n",
    "\n",
    "        print(\"Criando tabela {} no banco {}...\".format(nome_tabela, nome_bd), end=\"\\r\", flush=True)\n",
    "\n",
    "        # Cria a tabela no banco de dados sqlite passando o nome da tabela, o nome das colunas e seus tipos\n",
    "        comando = 'CREATE TABLE ' + nome_tabela + ' (' + nomes_colunas + ')'\n",
    "        cursor.execute('' + comando + '')\n",
    "\n",
    "        # Importa o dataframe com microdados referentes ao no para a tabela no banco de dados\n",
    "        data.to_sql(nome_tabela, conec_bd, if_exists='append', index = False)\n",
    "        conec_bd.commit()\n",
    "\n",
    "        print(\" \"*70, end=\"\\r\", flush=True)\n",
    "        print(\"Tabela {} criada com sucesso no banco {}.\".format(nome_tabela, nome_bd), end=\"\\n\\n\")\n",
    "\n",
    "    # Se a tabela já existe, nada acontece\n",
    "    else:\n",
    "        print(\"Tabela {} já existe no banco de dados {}.\".format(nome_tabela, nome_bd), end=\"\\n\\n\")"
   ]
  },
  {
   "cell_type": "markdown",
   "id": "7277952f",
   "metadata": {},
   "source": [
    "# Minas Gerais"
   ]
  },
  {
   "cell_type": "markdown",
   "id": "5d355373",
   "metadata": {
    "heading_collapsed": true
   },
   "source": [
    "## Conexão Banco de Dados"
   ]
  },
  {
   "cell_type": "code",
   "execution_count": 10,
   "id": "d9acb30b",
   "metadata": {
    "hidden": true
   },
   "outputs": [
    {
     "name": "stdout",
     "output_type": "stream",
     "text": [
      "Conexão ao banco 'COVID_MG_DW.sqlite' criada com sucesso.\n"
     ]
    }
   ],
   "source": [
    "if (nova_conexao(path_atual,  nome_bd_mg)):\n",
    "    conec_bd = sqlite3.connect(path_atual + nome_bd_mg)\n",
    "    cursor = conec_bd.cursor()\n",
    "    print(\"Conexão ao banco '{}' criada com sucesso.\".format(nome_bd_mg))\n",
    "    conec_bd.commit()"
   ]
  },
  {
   "cell_type": "markdown",
   "id": "07dce9f7",
   "metadata": {},
   "source": [
    "## Manipulacao de Dados"
   ]
  },
  {
   "cell_type": "markdown",
   "id": "4df3593f",
   "metadata": {},
   "source": [
    "### Remoção de Colunas"
   ]
  },
  {
   "cell_type": "code",
   "execution_count": 11,
   "id": "272dcb34",
   "metadata": {},
   "outputs": [],
   "source": [
    "data_casos_mg = data_casos_mg.drop(columns = ['DATA_EVOLUCAO','ETNIA','COMORBIDADE','DATA_ATUALIZACAO','RACA',\n",
    "                                             'CLASSIFICACAO_CASO', 'ORIGEM_DA_INFORMACAO'])"
   ]
  },
  {
   "cell_type": "markdown",
   "id": "d7e929fa",
   "metadata": {},
   "source": [
    "### Remoção de Nulos"
   ]
  },
  {
   "cell_type": "code",
   "execution_count": 12,
   "id": "c3c7876d",
   "metadata": {},
   "outputs": [],
   "source": [
    "data_casos_mg.SEXO = np.where(data_casos_mg.SEXO == \"NAO INFORMADO\", np.nan, data_casos_mg.SEXO)\n",
    "data_casos_mg.INTERNACAO = np.where(data_casos_mg.INTERNACAO == \"NAO INFORMADO\", np.nan, data_casos_mg.INTERNACAO)\n",
    "data_casos_mg.UTI = np.where(data_casos_mg.UTI == \"NAO INFORMADO\", np.nan, data_casos_mg.UTI)\n",
    "\n",
    "data_casos_mg = data_casos_mg.dropna(subset=['CODIGO', 'SEXO', 'DATA_NOTIFICACAO','INTERNACAO', 'UTI', 'DATA_1_SINTOMA','MICRO']).reset_index(drop = True)"
   ]
  },
  {
   "cell_type": "code",
   "execution_count": 13,
   "id": "8295be24",
   "metadata": {},
   "outputs": [],
   "source": [
    "data_casos_mg = data_casos_mg[data_casos_mg.IDADE <= 109].reset_index(drop = True)"
   ]
  },
  {
   "cell_type": "markdown",
   "id": "ffa56ff7",
   "metadata": {},
   "source": [
    "### Criação de Colunas"
   ]
  },
  {
   "cell_type": "code",
   "execution_count": 14,
   "id": "f6d62b03",
   "metadata": {},
   "outputs": [],
   "source": [
    "data_casos_mg[\"DATA_NOTIFICACAO\"] = pd.to_datetime(data_casos_mg[\"DATA_NOTIFICACAO\"], format='%d/%m/%Y')\n",
    "data_casos_mg[\"DATA_1_SINTOMA\"] = pd.to_datetime(data_casos_mg[\"DATA_1_SINTOMA\"], format='%d/%m/%Y')\n",
    "data_casos_mg['DIAS_PRA_NOTIFICACAO'] = (data_casos_mg[\"DATA_NOTIFICACAO\"] - data_casos_mg[\"DATA_1_SINTOMA\"]).dt.days"
   ]
  },
  {
   "cell_type": "code",
   "execution_count": 15,
   "id": "d9eb7071",
   "metadata": {},
   "outputs": [],
   "source": [
    "data_casos_mg = data_casos_mg[data_casos_mg.DIAS_PRA_NOTIFICACAO >= 0].reset_index(drop = True)"
   ]
  },
  {
   "cell_type": "markdown",
   "id": "8f8e910e",
   "metadata": {},
   "source": [
    "### Renomeação de Colunas"
   ]
  },
  {
   "cell_type": "code",
   "execution_count": 16,
   "id": "a280e99b",
   "metadata": {},
   "outputs": [],
   "source": [
    "data_casos_mg = data_casos_mg.rename(columns = {\"CODIGO\":\"ID_MUNICIPIO\",\n",
    "                                                \"ID\": \"ID_PESSOA\",\n",
    "                                                \"SEXO\": \"GENERO\",\n",
    "                                                \"DATA_NOTIFICACAO\":\"ID_TEMPO\"})"
   ]
  },
  {
   "cell_type": "markdown",
   "id": "2f6968ca",
   "metadata": {},
   "source": [
    "### Conversão Tipos das Colunas"
   ]
  },
  {
   "cell_type": "code",
   "execution_count": 17,
   "id": "5b14fc77",
   "metadata": {},
   "outputs": [
    {
     "data": {
      "text/plain": [
       "ID_PESSOA                        int64\n",
       "URS                             object\n",
       "MICRO                           object\n",
       "MACRO                           object\n",
       "ID_TEMPO                datetime64[ns]\n",
       "GENERO                          object\n",
       "IDADE                          float64\n",
       "FAIXA_ETARIA                    object\n",
       "MUNICIPIO_RESIDENCIA            object\n",
       "ID_MUNICIPIO                   float64\n",
       "EVOLUCAO                        object\n",
       "DATA_1_SINTOMA          datetime64[ns]\n",
       "INTERNACAO                      object\n",
       "UTI                             object\n",
       "DIAS_PRA_NOTIFICACAO             int64\n",
       "dtype: object"
      ]
     },
     "execution_count": 17,
     "metadata": {},
     "output_type": "execute_result"
    }
   ],
   "source": [
    "data_casos_mg.dtypes"
   ]
  },
  {
   "cell_type": "code",
   "execution_count": 18,
   "id": "24a71a2a",
   "metadata": {},
   "outputs": [],
   "source": [
    "data_casos_mg.IDADE = data_casos_mg.IDADE.astype(int)\n",
    "data_casos_mg.ID_MUNICIPIO = data_casos_mg.ID_MUNICIPIO.astype(int)"
   ]
  },
  {
   "cell_type": "markdown",
   "id": "1c66fb69",
   "metadata": {},
   "source": [
    "## Alimentação do Banco de Dados"
   ]
  },
  {
   "cell_type": "code",
   "execution_count": 19,
   "id": "808ba042",
   "metadata": {},
   "outputs": [],
   "source": [
    "nome_bd = nome_bd_mg"
   ]
  },
  {
   "cell_type": "markdown",
   "id": "addeb8be",
   "metadata": {},
   "source": [
    "### Criação Tabela Dimensão Paciente"
   ]
  },
  {
   "cell_type": "code",
   "execution_count": 20,
   "id": "f4520fc6",
   "metadata": {},
   "outputs": [],
   "source": [
    "dim_paciente_mg = data_casos_mg[['ID_PESSOA', 'GENERO', 'IDADE', 'FAIXA_ETARIA']]"
   ]
  },
  {
   "cell_type": "code",
   "execution_count": 21,
   "id": "1c9005a9",
   "metadata": {},
   "outputs": [
    {
     "name": "stdout",
     "output_type": "stream",
     "text": [
      "Tabela Dim_Paciente criada com sucesso no banco COVID_MG_DW.sqlite.   \n",
      "\n"
     ]
    }
   ],
   "source": [
    "insere_tabelas_banco(dim_paciente_mg, cursor, \"Dim_Paciente\")"
   ]
  },
  {
   "cell_type": "markdown",
   "id": "18884908",
   "metadata": {},
   "source": [
    "### Criação Tabela Dimensão Tempo"
   ]
  },
  {
   "cell_type": "code",
   "execution_count": 22,
   "id": "c4860528",
   "metadata": {},
   "outputs": [],
   "source": [
    "dim_tempo = data_casos_mg[[\"ID_TEMPO\"]].drop_duplicates().reset_index(drop = True)"
   ]
  },
  {
   "cell_type": "code",
   "execution_count": 23,
   "id": "e639e7b3",
   "metadata": {},
   "outputs": [],
   "source": [
    "dim_tempo[\"Dia\"] = dim_tempo[\"ID_TEMPO\"].dt.day\n",
    "dim_tempo[\"Mes\"] = dim_tempo[\"ID_TEMPO\"].dt.month\n",
    "dim_tempo[\"Ano\"] = dim_tempo[\"ID_TEMPO\"].dt.year"
   ]
  },
  {
   "cell_type": "code",
   "execution_count": 24,
   "id": "58d547ed",
   "metadata": {},
   "outputs": [],
   "source": [
    "dim_tempo = dim_tempo.sort_values(by = \"ID_TEMPO\").reset_index(drop = \"True\")"
   ]
  },
  {
   "cell_type": "code",
   "execution_count": 25,
   "id": "d3a550f5",
   "metadata": {},
   "outputs": [
    {
     "name": "stdout",
     "output_type": "stream",
     "text": [
      "Tabela Dim_Tempo criada com sucesso no banco COVID_MG_DW.sqlite.      \n",
      "\n"
     ]
    }
   ],
   "source": [
    "insere_tabelas_banco(dim_tempo, cursor, \"Dim_Tempo\")"
   ]
  },
  {
   "cell_type": "markdown",
   "id": "41d44c54",
   "metadata": {},
   "source": [
    "### Criação Tabela Dimensão Cidade"
   ]
  },
  {
   "cell_type": "code",
   "execution_count": 26,
   "id": "aa4be332",
   "metadata": {},
   "outputs": [],
   "source": [
    "dim_cidade = data_casos_mg[[\"ID_MUNICIPIO\", \"MUNICIPIO_RESIDENCIA\", \"MICRO\", \"URS\", \"MACRO\"]]\n",
    "dim_cidade = dim_cidade.drop_duplicates(subset=[\"ID_MUNICIPIO\"]).reset_index(drop = True)"
   ]
  },
  {
   "cell_type": "code",
   "execution_count": 27,
   "id": "67bd6c55",
   "metadata": {},
   "outputs": [],
   "source": [
    "ibge_populacao[\"COD. MUNIC\"] = ibge_populacao[\"COD. MUNIC\"].astype(str).str[:-1].str.zfill(4)\n",
    "ibge_populacao[\"ID_MUNICIPIO\"] = ibge_populacao[\"COD. UF\"].astype(str)  + ibge_populacao[\"COD. MUNIC\"] "
   ]
  },
  {
   "cell_type": "code",
   "execution_count": 28,
   "id": "876997d3",
   "metadata": {},
   "outputs": [],
   "source": [
    "ibge_populacao[\"ID_MUNICIPIO\"] = ibge_populacao[\"ID_MUNICIPIO\"].astype(int)"
   ]
  },
  {
   "cell_type": "code",
   "execution_count": 29,
   "id": "cc5409ee",
   "metadata": {},
   "outputs": [],
   "source": [
    "ibge_populacao = ibge_populacao.rename(columns = {\"POPULAÇÃO ESTIMADA\":\"POPULAÇÃO_ESTIMADA\"})"
   ]
  },
  {
   "cell_type": "code",
   "execution_count": 30,
   "id": "1f9e4edc",
   "metadata": {},
   "outputs": [],
   "source": [
    "dim_cidade[\"ID_MUNICIPIO\"] = dim_cidade[\"ID_MUNICIPIO\"].astype(int)"
   ]
  },
  {
   "cell_type": "code",
   "execution_count": 31,
   "id": "c8dd2e55",
   "metadata": {},
   "outputs": [],
   "source": [
    "dim_cidade = pd.merge(dim_cidade, ibge_populacao[[\"ID_MUNICIPIO\", \"POPULAÇÃO_ESTIMADA\"]], on=\"ID_MUNICIPIO\")"
   ]
  },
  {
   "cell_type": "code",
   "execution_count": 32,
   "id": "9372b204",
   "metadata": {},
   "outputs": [],
   "source": [
    "ibge_pib = ibge_pib.rename(columns={\n",
    "    \"Sigla da Unidade da Federação\": \"UF\", \n",
    "    \"Código do Município\": \"ID_MUNICIPIO\",\n",
    "    \"Produto Interno Bruto per capita, \\na preços correntes\\n(R$ 1,00)\": \"PIB_PER_CAPITA\"})"
   ]
  },
  {
   "cell_type": "code",
   "execution_count": 33,
   "id": "64a68436",
   "metadata": {},
   "outputs": [],
   "source": [
    "ibge_pib[\"ID_MUNICIPIO\"] = ibge_pib[\"ID_MUNICIPIO\"].astype(str).str[:-1].astype(int)"
   ]
  },
  {
   "cell_type": "code",
   "execution_count": 34,
   "id": "ef51e487",
   "metadata": {},
   "outputs": [],
   "source": [
    "dim_cidade = pd.merge(dim_cidade, ibge_pib[[\"ID_MUNICIPIO\", \"PIB_PER_CAPITA\"]], on=\"ID_MUNICIPIO\")"
   ]
  },
  {
   "cell_type": "code",
   "execution_count": 35,
   "id": "d3623192",
   "metadata": {},
   "outputs": [],
   "source": [
    "dim_cidade[\"POPULAÇÃO_ESTIMADA\"] = dim_cidade[\"POPULAÇÃO_ESTIMADA\"].astype(int)"
   ]
  },
  {
   "cell_type": "code",
   "execution_count": 36,
   "id": "d61aaa1f",
   "metadata": {},
   "outputs": [
    {
     "name": "stdout",
     "output_type": "stream",
     "text": [
      "Tabela Dim_Municipio criada com sucesso no banco COVID_MG_DW.sqlite.  \n",
      "\n"
     ]
    }
   ],
   "source": [
    "insere_tabelas_banco(dim_cidade, cursor, \"Dim_Municipio\")"
   ]
  },
  {
   "cell_type": "markdown",
   "id": "60b7cc25",
   "metadata": {},
   "source": [
    "### Tabela Dimensão Tratamento"
   ]
  },
  {
   "cell_type": "code",
   "execution_count": 37,
   "id": "ae418d00",
   "metadata": {},
   "outputs": [],
   "source": [
    "dim_tratamento = data_casos_mg[[\"ID_PESSOA\", 'DIAS_PRA_NOTIFICACAO','EVOLUCAO', 'INTERNACAO', 'UTI']]"
   ]
  },
  {
   "cell_type": "code",
   "execution_count": 38,
   "id": "55366279",
   "metadata": {},
   "outputs": [
    {
     "name": "stdout",
     "output_type": "stream",
     "text": [
      "Tabela Dim_Status_Tratamento criada com sucesso no banco COVID_MG_DW.sqlite.\n",
      "\n"
     ]
    }
   ],
   "source": [
    "insere_tabelas_banco(dim_tratamento, cursor, \"Dim_Status_Tratamento\")"
   ]
  },
  {
   "cell_type": "markdown",
   "id": "381c5d34",
   "metadata": {},
   "source": [
    "### Criação Tabela Fato"
   ]
  },
  {
   "cell_type": "code",
   "execution_count": 39,
   "id": "ee96740f",
   "metadata": {},
   "outputs": [],
   "source": [
    "tabela_fato = data_casos_mg[['ID_PESSOA', 'ID_MUNICIPIO','ID_TEMPO']]"
   ]
  },
  {
   "cell_type": "code",
   "execution_count": 40,
   "id": "c6418cc6",
   "metadata": {},
   "outputs": [
    {
     "name": "stdout",
     "output_type": "stream",
     "text": [
      "Tabela Fato_Internacao criada com sucesso no banco COVID_MG_DW.sqlite.\n",
      "\n"
     ]
    }
   ],
   "source": [
    "insere_tabelas_banco(tabela_fato, cursor, \"Fato_Internacao\")"
   ]
  },
  {
   "cell_type": "markdown",
   "id": "b40a73a6",
   "metadata": {},
   "source": [
    "## Fechamento da Conexão com o Banco de dados"
   ]
  },
  {
   "cell_type": "code",
   "execution_count": 41,
   "id": "ed7cda7f",
   "metadata": {},
   "outputs": [],
   "source": [
    "conec_bd.close()"
   ]
  }
 ],
 "metadata": {
  "kernelspec": {
   "display_name": "Python 3",
   "language": "python",
   "name": "python3"
  },
  "language_info": {
   "codemirror_mode": {
    "name": "ipython",
    "version": 3
   },
   "file_extension": ".py",
   "mimetype": "text/x-python",
   "name": "python",
   "nbconvert_exporter": "python",
   "pygments_lexer": "ipython3",
   "version": "3.8.8"
  }
 },
 "nbformat": 4,
 "nbformat_minor": 5
}
