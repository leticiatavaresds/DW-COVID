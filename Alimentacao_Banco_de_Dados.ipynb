{
 "cells": [
  {
   "cell_type": "markdown",
   "id": "c1daab3f",
   "metadata": {},
   "source": [
    "## Importação de Bibliotecas"
   ]
  },
  {
   "cell_type": "code",
   "execution_count": 1,
   "id": "671e1820",
   "metadata": {},
   "outputs": [],
   "source": [
    "# Python versão 3.8.8\n",
    "# Windows 10\n",
    "\n",
    "# biblioteca para realizar requisição\n",
    "import requests # versão 2.25.1\n",
    "\n",
    "# biblioteca para interação com o sistema\n",
    "import os\n",
    "import shutil\n",
    "\n",
    "# biblioeca para manipulação de dados\n",
    "import pandas as pd # versão 1.3.2\n",
    "\n",
    "# biblioteca para manipulação de banco de dados sqlite\n",
    "import sqlite3 # versão 2.6.0\n",
    "from sqlite3 import Error\n",
    "\n",
    "import warnings\n",
    "warnings.filterwarnings('ignore', category=UserWarning, module='openpyxl')"
   ]
  },
  {
   "cell_type": "markdown",
   "id": "5bf33ad3",
   "metadata": {},
   "source": [
    "## Variáveis Globais"
   ]
  },
  {
   "cell_type": "code",
   "execution_count": 2,
   "id": "82481f1d",
   "metadata": {},
   "outputs": [],
   "source": [
    "path_atual = os.path.dirname(os.path.realpath('__file__')) + \"\\\\\" # diretório onde se encontra o script\n",
    "nome_bd = \"DW_Covid.sqlite\" # nome do banco de dados"
   ]
  },
  {
   "cell_type": "markdown",
   "id": "254fea59",
   "metadata": {},
   "source": [
    "## Download de Dados"
   ]
  },
  {
   "cell_type": "code",
   "execution_count": 3,
   "id": "711b2069",
   "metadata": {},
   "outputs": [],
   "source": [
    "# Função que realiza o download de um arquivo através de uma url dada e o salva no diretório dado\n",
    "\n",
    "def download_arquivo(url, path_arquivo, nome_arquivo = None, download_forcado = False):\n",
    "    \n",
    "    mensagem_download = \"Realizando Download do Arquivo '{}'...\".format(nome_arquivo)\n",
    "    mensagem_sucesso = 'Arquivo {} salvo com sucesso.'.format(nome_arquivo).ljust(len(mensagem_download))\n",
    "\n",
    "    if not os.path.exists(path_arquivo):\n",
    "        os.makedirs(path_arquivo) \n",
    "        \n",
    "\n",
    "    if nome_arquivo is None:\n",
    "        nome_arquivo = url.split('/')[-1].replace(\" \", \"_\")\n",
    "        \n",
    "    arquivo_existe = os.path.exists(path_atual + nome_arquivo)\n",
    "    # Realiza o donwload se o arquivo ainda nao existe no diretório\n",
    "    if not arquivo_existe or download_forcado:\n",
    "        path_arquivo = os.path.join(path_arquivo, nome_arquivo)\n",
    "\n",
    "        request_url = requests.get(url, stream=True)\n",
    "        if request_url.ok:\n",
    "            print(mensagem_download, end=\"\\r\", flush=True)\n",
    "\n",
    "            tam_chunk = 1024 * 8\n",
    "\n",
    "            with open(path_arquivo, 'wb') as arquivo:\n",
    "\n",
    "                for chunk in request_url.iter_content(tam_chunk):\n",
    "                    if chunk:\n",
    "                        arquivo.write(chunk)\n",
    "                        arquivo.flush()\n",
    "                        os.fsync(arquivo.fileno())\n",
    "\n",
    "            print(mensagem_sucesso) \n",
    "\n",
    "        else:\n",
    "            print(\"Falha no Download: status code {}\\n{}\".format(request_url.status_code, request_url.text))"
   ]
  },
  {
   "cell_type": "code",
   "execution_count": 4,
   "id": "56d311c3",
   "metadata": {},
   "outputs": [],
   "source": [
    "url = \"https://data.brasil.io/dataset/covid19/caso_full.csv.gz\"\n",
    "download_arquivo(url, path_atual, \"casos_covid.gz\")"
   ]
  },
  {
   "cell_type": "code",
   "execution_count": 5,
   "id": "ad2b9bc0",
   "metadata": {},
   "outputs": [],
   "source": [
    "# download_arquivo(url, path_atual, \"casos_covid.gz\", download_forcado = True)"
   ]
  },
  {
   "cell_type": "markdown",
   "id": "b38cbb36",
   "metadata": {},
   "source": [
    "## Leitura de Dados"
   ]
  },
  {
   "cell_type": "code",
   "execution_count": 6,
   "id": "1c6bfe00",
   "metadata": {},
   "outputs": [],
   "source": [
    "data_casos = pd.read_csv(\"casos_covid.gz\", compression = \"gzip\")"
   ]
  },
  {
   "cell_type": "code",
   "execution_count": 7,
   "id": "550f2305",
   "metadata": {},
   "outputs": [],
   "source": [
    "# data_vacinacao = pd.read_csv(\"tabela_vacinacao.csv\")"
   ]
  },
  {
   "cell_type": "markdown",
   "id": "5d355373",
   "metadata": {},
   "source": [
    "## Conexão Banco de Dados"
   ]
  },
  {
   "cell_type": "code",
   "execution_count": 7,
   "id": "b61527c5",
   "metadata": {},
   "outputs": [],
   "source": [
    "def nova_conexao(path, nome_bd):\n",
    "\n",
    "    conec_bd = None\n",
    "    try:\n",
    "        conec_bd = sqlite3.connect(path + nome_bd)\n",
    "\n",
    "    except Error as erro:\n",
    "        print(erro)\n",
    "        return 0\n",
    "    \n",
    "    finally:\n",
    "        if conec_bd:\n",
    "            conec_bd.close()\n",
    "    return 1"
   ]
  },
  {
   "cell_type": "code",
   "execution_count": 8,
   "id": "d9acb30b",
   "metadata": {},
   "outputs": [
    {
     "name": "stdout",
     "output_type": "stream",
     "text": [
      "Conexão ao banco 'DW_Covid.sqlite' criada com sucesso.\n"
     ]
    }
   ],
   "source": [
    "if (nova_conexao(path_atual,  nome_bd)):\n",
    "    conec_bd = sqlite3.connect(path_atual + nome_bd)\n",
    "    cursor = conec_bd.cursor()\n",
    "    print(\"Conexão ao banco '{}' criada com sucesso.\".format(nome_bd))\n",
    "    conec_bd.commit()"
   ]
  },
  {
   "cell_type": "markdown",
   "id": "1c66fb69",
   "metadata": {},
   "source": [
    "## Alimentação do Banco de Dados"
   ]
  },
  {
   "cell_type": "code",
   "execution_count": 9,
   "id": "d95b804b",
   "metadata": {},
   "outputs": [],
   "source": [
    "def verifica_tabela_existe(cursor, nome_tabela):\n",
    "    \n",
    "    cursor.execute(''' SELECT name FROM sqlite_master WHERE type='table' AND name='{}' '''.format(nome_tabela))\n",
    "    \n",
    "    if cursor.fetchone():\n",
    "        return 1\n",
    "    else:\n",
    "        return 0"
   ]
  },
  {
   "cell_type": "code",
   "execution_count": 10,
   "id": "585e9647",
   "metadata": {},
   "outputs": [],
   "source": [
    "def coverte_tipo_sqlite(string_tipo):  \n",
    "        \n",
    "    if string_tipo in [\"int64\", \"bool\"]:\n",
    "            tipo_sql = \"integer\"\n",
    "            \n",
    "    elif string_tipo == \"float64\":\n",
    "            tipo_sql = \"real\"           \n",
    "    else:\n",
    "        tipo_sql = \"text\"\n",
    "    \n",
    "    return tipo_sql\n",
    "    "
   ]
  },
  {
   "cell_type": "code",
   "execution_count": 11,
   "id": "1a496cb2",
   "metadata": {},
   "outputs": [],
   "source": [
    "def insere_tabelas_banco(data, cursor, nome_tabela):\n",
    "\n",
    "    tabela_existe = verifica_tabela_existe(cursor, nome_tabela)\n",
    "\n",
    "    if not tabela_existe:\n",
    "\n",
    "\n",
    "        # Transforma o nome da coluna seguido por seu tipo em apenas uma string para cada coluna\n",
    "        # Logo após concatena essas strings utilizando a vírgula como separador\n",
    "        lista_colunas = list(data.columns)\n",
    "        \n",
    "        novas_colunas = []\n",
    "        for coluna in lista_colunas:\n",
    "            coluna = coluna + \" \" + coverte_tipo_sqlite(str(data[coluna].dtype)) \n",
    "            novas_colunas.append(coluna)\n",
    "\n",
    "        nomes_colunas = \", \".join(novas_colunas)         \n",
    "\n",
    "        print(\"Criando tabela {} no banco {}...\".format(nome_tabela, nome_bd), end=\"\\r\", flush=True)\n",
    "\n",
    "        # Cria a tabela no banco de dados sqlite passando o nome da tabela, o nome das colunas e seus tipos\n",
    "        comando = 'CREATE TABLE ' + nome_tabela + ' (' + nomes_colunas + ')'\n",
    "        cursor.execute('' + comando + '')\n",
    "\n",
    "        # Importa o dataframe com microdados referentes ao no para a tabela no banco de dados\n",
    "        data.to_sql(nome_tabela, conec_bd, if_exists='append', index = False)\n",
    "        conec_bd.commit()\n",
    "\n",
    "        print(\" \"*70, end=\"\\r\", flush=True)\n",
    "        print(\"Tabela {} criada com sucesso no banco {}.\".format(nome_tabela, nome_bd), end=\"\\n\\n\")\n",
    "\n",
    "    # Se a tabela já existe, nada acontece\n",
    "    else:\n",
    "        print(\"Tabela {} já existe no banco de dados {}.\".format(nome_tabela, nome_bd), end=\"\\n\\n\")"
   ]
  },
  {
   "cell_type": "code",
   "execution_count": 12,
   "id": "b9974c5d",
   "metadata": {},
   "outputs": [
    {
     "name": "stdout",
     "output_type": "stream",
     "text": [
      "Tabela Casos_Covid criada com sucesso no banco DW_Covid.sqlite.       \n",
      "\n"
     ]
    }
   ],
   "source": [
    "insere_tabelas_banco(data_casos, cursor, \"Casos_Covid\")"
   ]
  },
  {
   "cell_type": "code",
   "execution_count": 13,
   "id": "ed7cda7f",
   "metadata": {},
   "outputs": [],
   "source": [
    "conec_bd.close()"
   ]
  }
 ],
 "metadata": {
  "kernelspec": {
   "display_name": "Python 3",
   "language": "python",
   "name": "python3"
  },
  "language_info": {
   "codemirror_mode": {
    "name": "ipython",
    "version": 3
   },
   "file_extension": ".py",
   "mimetype": "text/x-python",
   "name": "python",
   "nbconvert_exporter": "python",
   "pygments_lexer": "ipython3",
   "version": "3.8.8"
  }
 },
 "nbformat": 4,
 "nbformat_minor": 5
}
