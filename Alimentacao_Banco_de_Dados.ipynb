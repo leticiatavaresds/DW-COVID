{
 "cells": [
  {
   "cell_type": "markdown",
   "id": "c1daab3f",
   "metadata": {},
   "source": [
    "## Importação de Bibliotecas"
   ]
  },
  {
   "cell_type": "code",
   "execution_count": 32,
   "id": "671e1820",
   "metadata": {},
   "outputs": [],
   "source": [
    "# Python versão 3.8.8\n",
    "# Windows 10\n",
    "\n",
    "# bibliotecas para baixar arquivos e extrair arquivos zip\n",
    "import urllib # versão 1.26.6\n",
    "import urllib.request # versão 1.26.6\n",
    "import zipfile # defaut version 20\n",
    "\n",
    "# biblioteca para realizar requisição\n",
    "import requests # versão 2.25.1\n",
    "\n",
    "# biblioteca para interação com o sistema\n",
    "import os\n",
    "import shutil\n",
    "\n",
    "# biblioeca para manipulação de dados\n",
    "import pandas as pd # versão 1.3.2\n",
    "import unidecode\n",
    "\n",
    "# biblioteca para manipulação de banco de dados sqlite\n",
    "import sqlite3 # versão 2.6.0\n",
    "from sqlite3 import Error\n",
    "\n",
    "import warnings\n",
    "warnings.filterwarnings('ignore', category=UserWarning, module='openpyxl')\n",
    "\n",
    "import gzip"
   ]
  },
  {
   "cell_type": "markdown",
   "id": "5bf33ad3",
   "metadata": {},
   "source": [
    "## Variáveis Globais"
   ]
  },
  {
   "cell_type": "code",
   "execution_count": null,
   "id": "82481f1d",
   "metadata": {},
   "outputs": [],
   "source": [
    "path_atual = os.path.dirname(os.path.realpath('__file__')) + \"\\\\\"\n",
    "nome_bd = \"DW_Covid.sqlite\""
   ]
  },
  {
   "cell_type": "markdown",
   "id": "254fea59",
   "metadata": {},
   "source": [
    "## Download e Extração de Arquivoss"
   ]
  },
  {
   "cell_type": "code",
   "execution_count": 47,
   "id": "711b2069",
   "metadata": {},
   "outputs": [],
   "source": [
    "#Função para realizar o download de um arquivo através de uma url e salva-lo no diretório dado\n",
    "def download_arquivo(url, path_arquivo, nome_arquivo = None):\n",
    "    \n",
    "    mensagem_download = \"Realizando Download do Arquivo '{}'...\".format(nome_arquivo)\n",
    "    mensagem_sucesso = 'Arquivo {} salvo com sucesso.'.format(nome_arquivo).ljust(len(mensagem_download))\n",
    "\n",
    "    print(mensagem_download, end=\"\\r\", flush=True)\n",
    "\n",
    "    if not os.path.exists(path_arquivo):\n",
    "        os.makedirs(path_arquivo)  # create folder if it does not exist\n",
    "\n",
    "    if nome_arquivo is not None:\n",
    "        filename = nome_arquivo\n",
    "    else:\n",
    "        filename = url.split('/')[-1].replace(\" \", \"_\")  # be careful with file names\n",
    "\n",
    "    file_path = os.path.join(path_arquivo, filename)\n",
    "\n",
    "    r = requests.get(url, stream=True)\n",
    "    if r.ok:\n",
    "        print(\"saving to\", os.path.abspath(file_path))\n",
    "        with open(file_path, 'wb') as f:\n",
    "            for chunk in r.iter_content(chunk_size=1024 * 8):\n",
    "                if chunk:\n",
    "                    f.write(chunk)\n",
    "                    f.flush()\n",
    "                    os.fsync(f.fileno())\n",
    "    else:  # HTTP status code 4XX/5XX\n",
    "        print(\"Download failed: status code {}\\n{}\".format(r.status_code, r.text))\n",
    "        \n",
    "        \n",
    "# Função para extrair os metadados do zip (apaga o arquivo zip apos dar unzip)\n",
    "def extrair_zip(path_arquivo, nome_arquivo):\n",
    "        \n",
    "    if (os.path.isfile(path_arquivo + nome_arquivo)):\n",
    "        \n",
    "        with gzip.open(path_arquivo + nome_arquivo, 'rb') as f_in:\n",
    "            with open(\"tabela_casos_covid.csv\", 'wb') as f_out:\n",
    "                shutil.copyfileobj(f_in, f_out)\n",
    "                \n",
    "        print(\"Metadados do COVID extraídos e salvos no diretório.\", end=\"\\n\")\n",
    "#         os.remove(path_arquivo + nome_arquivo)"
   ]
  },
  {
   "cell_type": "code",
   "execution_count": 26,
   "id": "56d311c3",
   "metadata": {},
   "outputs": [
    {
     "name": "stdout",
     "output_type": "stream",
     "text": [
      "Arquivo casos_covid.gz salvo com sucesso.         \n"
     ]
    }
   ],
   "source": [
    "url = \"https://data.brasil.io/dataset/covid19/caso_full.csv.gz\"\n",
    "download_arquivo(url, path_atual, \"casos_covid.gz\")\n",
    "extrair_zip(path_atual, \"caso_full_csv.gz\")"
   ]
  },
  {
   "cell_type": "markdown",
   "id": "b38cbb36",
   "metadata": {},
   "source": [
    "## Leitura de Dados"
   ]
  },
  {
   "cell_type": "code",
   "execution_count": 81,
   "id": "1c6bfe00",
   "metadata": {},
   "outputs": [],
   "source": [
    "data_vacinacao = pd.read_excel(\"tabela_vacinacao_covid.xlsx\")\n",
    "data_casos = pd.read_csv(\"tabela_casos_covid.csv\")"
   ]
  },
  {
   "cell_type": "markdown",
   "id": "5d355373",
   "metadata": {},
   "source": [
    "## Conexão Banco de Dados"
   ]
  },
  {
   "cell_type": "code",
   "execution_count": 88,
   "id": "b61527c5",
   "metadata": {},
   "outputs": [],
   "source": [
    "def nova_conexao(path, nome_bd):\n",
    "\n",
    "    conec_bd = None\n",
    "    try:\n",
    "        conec_bd = sqlite3.connect(path + nome_bd)\n",
    "\n",
    "    except Error as erro:\n",
    "        print(erro)\n",
    "        return 0\n",
    "    \n",
    "    finally:\n",
    "        if conec_bd:\n",
    "            conec_bd.close()\n",
    "    return 1"
   ]
  },
  {
   "cell_type": "code",
   "execution_count": 172,
   "id": "d9acb30b",
   "metadata": {},
   "outputs": [
    {
     "name": "stdout",
     "output_type": "stream",
     "text": [
      "Conexão ao banco 'DW_Covid.sqlite' criada com sucesso.\n"
     ]
    }
   ],
   "source": [
    "if (nova_conexao(path_atual,  nome_bd)):\n",
    "    conec_bd = sqlite3.connect(path_atual + nome_bd)\n",
    "    cursor = conec_bd.cursor()\n",
    "    print(\"Conexão ao banco '{}' criada com sucesso.\".format(nome_bd))\n",
    "    conec_bd.commit()"
   ]
  },
  {
   "cell_type": "markdown",
   "id": "1c66fb69",
   "metadata": {},
   "source": [
    "## Alimentação do Banco de Dados"
   ]
  },
  {
   "cell_type": "code",
   "execution_count": 94,
   "id": "d95b804b",
   "metadata": {},
   "outputs": [],
   "source": [
    "def verifica_tabela_existe(cursor, nome_tabela):\n",
    "    \n",
    "    cursor.execute(''' SELECT name FROM sqlite_master WHERE type='table' AND name='{}' '''.format(nome_tabela))\n",
    "    \n",
    "    if cursor.fetchone():\n",
    "        return 1\n",
    "    else:\n",
    "        return 0"
   ]
  },
  {
   "cell_type": "code",
   "execution_count": 151,
   "id": "585e9647",
   "metadata": {},
   "outputs": [],
   "source": [
    "def coverte_tipo_sqlite(string_tipo):\n",
    "    \n",
    "    if string_tipo == \"object\":\n",
    "        tipo_sql = \"text\"\n",
    "        \n",
    "    elif string_tipo == \"int64\":\n",
    "            tipo_sql = \"integer\"\n",
    "            \n",
    "    elif string_tipo == \"float64\":\n",
    "            tipo_sql = \"real\"\n",
    "    \n",
    "    elif string_tipo == \"bool\":\n",
    "            tipo_sql = \"integer\"            \n",
    "    else:\n",
    "        tipo_sql = \"text\"\n",
    "    \n",
    "    return tipo_sql\n",
    "    "
   ]
  },
  {
   "cell_type": "code",
   "execution_count": 170,
   "id": "1a496cb2",
   "metadata": {},
   "outputs": [],
   "source": [
    "def insere_tabelas_banco(data, cursor, nome_tabela):\n",
    "\n",
    "    tabela_existe = verifica_tabela_existe(cursor, nome_tabela)\n",
    "\n",
    "    if not tabela_existe:\n",
    "\n",
    "\n",
    "        # Transforma o nome da coluna seguido por seu tipo em apenas uma string para cada coluna\n",
    "        # Logo após concatena essas strings utilizando a vírgula como separador\n",
    "        lista_colunas = list(data.columns)\n",
    "        \n",
    "        novas_colunas = []\n",
    "        for coluna in lista_colunas:\n",
    "            coluna = coluna + \" \" + coverte_tipo_sqlite(str(data[coluna].dtype)) \n",
    "            novas_colunas.append(coluna)\n",
    "\n",
    "        nomes_colunas = \", \".join(novas_colunas)         \n",
    "\n",
    "        print(\"Criando tabela {} no banco {}...\".format(nome_tabela, nome_bd), end=\"\\r\", flush=True)\n",
    "\n",
    "        # Cria a tabela no banco de dados sqlite passando o nome da tabela, o nome das colunas e seus tipos\n",
    "        comando = 'CREATE TABLE ' + nome_tabela + ' (' + nomes_colunas + ')'\n",
    "        cursor.execute('' + comando + '')\n",
    "\n",
    "        # Importa o dataframe com microdados referentes ao no para a tabela no banco de dados\n",
    "        data.to_sql(nome_tabela, conec_bd, if_exists='append', index = False)\n",
    "        conec_bd.commit()\n",
    "\n",
    "        print(\" \"*70, end=\"\\r\", flush=True)\n",
    "        print(\"Tabela {} criada com sucesso no banco {}.\".format(nome_tabela, nome_bd), end=\"\\n\\n\")\n",
    "\n",
    "    # Se a tabela já existe, nada acontece\n",
    "    else:\n",
    "        print(\"Tabela {} já existe no banco de dados {}.\".format(nome_tabela, nome_bd), end=\"\\n\\n\")\n",
    "\n",
    "# conec_bd.close()"
   ]
  },
  {
   "cell_type": "code",
   "execution_count": 173,
   "id": "b9974c5d",
   "metadata": {},
   "outputs": [
    {
     "name": "stdout",
     "output_type": "stream",
     "text": [
      "CREATE TABLE Casos_Covid (city text, city_ibge_code real, date text, epidemiological_week integer, estimated_population real, estimated_population_2019 real, is_last integer, is_repeated integer, last_available_confirmed integer, last_available_confirmed_per_100k_inhabitants real, last_available_date text, last_available_death_rate real, last_available_deaths integer, order_for_place integer, place_type text, state text, new_confirmed integer, new_deaths integer)\n",
      "Tabela Casos_Covid criada com sucesso no banco DW_Covid.sqlite.       \n",
      "\n"
     ]
    }
   ],
   "source": [
    "insere_tabelas_banco(data_casos, cursor, \"Casos_Covid\")"
   ]
  },
  {
   "cell_type": "code",
   "execution_count": 171,
   "id": "ed7cda7f",
   "metadata": {},
   "outputs": [],
   "source": [
    "conec_bd.close()"
   ]
  }
 ],
 "metadata": {
  "kernelspec": {
   "display_name": "Python 3",
   "language": "python",
   "name": "python3"
  },
  "language_info": {
   "codemirror_mode": {
    "name": "ipython",
    "version": 3
   },
   "file_extension": ".py",
   "mimetype": "text/x-python",
   "name": "python",
   "nbconvert_exporter": "python",
   "pygments_lexer": "ipython3",
   "version": "3.8.8"
  }
 },
 "nbformat": 4,
 "nbformat_minor": 5
}
